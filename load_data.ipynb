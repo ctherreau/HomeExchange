{
 "cells": [
  {
   "cell_type": "markdown",
   "id": "fda3f65c",
   "metadata": {},
   "source": [
    "## Load data \n",
    "\n",
    "- Load data from bigquery\n",
    "- Saved to csv \n",
    "    - To avoid doing big query resquest to many time\n",
    "    - To save cost \n"
   ]
  },
  {
   "cell_type": "code",
   "execution_count": 1,
   "id": "09a4f09c",
   "metadata": {},
   "outputs": [],
   "source": [
    "import pandas as pd"
   ]
  },
  {
   "cell_type": "code",
   "execution_count": 2,
   "id": "8e54113f",
   "metadata": {},
   "outputs": [
    {
     "name": "stdout",
     "output_type": "stream",
     "text": [
      "mkdir: cannot create directory ‘data’: File exists\r\n"
     ]
    }
   ],
   "source": [
    "%mkdir 'data'"
   ]
  },
  {
   "cell_type": "markdown",
   "id": "1f7ec30b",
   "metadata": {},
   "source": [
    "Subscrpition data"
   ]
  },
  {
   "cell_type": "code",
   "execution_count": 3,
   "id": "48b11edc",
   "metadata": {},
   "outputs": [],
   "source": [
    "from google.cloud import bigquery\n",
    "\n",
    "# Construct a BigQuery client object.\n",
    "client = bigquery.Client()\n",
    "query = \"\"\"\n",
    "    SELECT *\n",
    "    FROM `datahomeexchange.dbt_ctherreau.subscriptions`\n",
    "\"\"\"\n",
    "\n",
    "df = client.query(query).to_dataframe()"
   ]
  },
  {
   "cell_type": "code",
   "execution_count": 4,
   "id": "d25baa1d",
   "metadata": {},
   "outputs": [],
   "source": [
    "df.to_csv('data/subscription.csv')"
   ]
  },
  {
   "cell_type": "code",
   "execution_count": 5,
   "id": "10e20461",
   "metadata": {},
   "outputs": [
    {
     "name": "stderr",
     "output_type": "stream",
     "text": [
      "/tmp/ipykernel_33506/3467524016.py:1: PerformanceWarning: \n",
      "your performance may suffer as PyTables will pickle object types that it cannot\n",
      "map directly to c-types [inferred_type->mixed,key->block0_values] [items->Index(['pk', 'subscription_date', 'first_subscription_date',\n",
      "       'previous_inscription_date', 'country', 'region', 'department', 'city'],\n",
      "      dtype='object')]\n",
      "\n",
      "  df.to_hdf('data/subscription.h5', key='data')\n"
     ]
    }
   ],
   "source": [
    "df.to_hdf('data/subscription.h5', key='data')"
   ]
  },
  {
   "cell_type": "code",
   "execution_count": 8,
   "id": "78553c84",
   "metadata": {},
   "outputs": [],
   "source": [
    "#verification of loading\n",
    "test = pd.read_hdf('data/subscription.h5', key='data')"
   ]
  },
  {
   "cell_type": "code",
   "execution_count": 9,
   "id": "70f9a546",
   "metadata": {},
   "outputs": [
    {
     "data": {
      "text/html": [
       "<div>\n",
       "<style scoped>\n",
       "    .dataframe tbody tr th:only-of-type {\n",
       "        vertical-align: middle;\n",
       "    }\n",
       "\n",
       "    .dataframe tbody tr th {\n",
       "        vertical-align: top;\n",
       "    }\n",
       "\n",
       "    .dataframe thead th {\n",
       "        text-align: right;\n",
       "    }\n",
       "</style>\n",
       "<table border=\"1\" class=\"dataframe\">\n",
       "  <thead>\n",
       "    <tr style=\"text-align: right;\">\n",
       "      <th></th>\n",
       "      <th>pk</th>\n",
       "      <th>subscription_date</th>\n",
       "      <th>user_id</th>\n",
       "      <th>renew</th>\n",
       "      <th>first_subscription_date</th>\n",
       "      <th>first_subscription</th>\n",
       "      <th>is_zombie</th>\n",
       "      <th>previous_inscription_date</th>\n",
       "      <th>referral</th>\n",
       "      <th>promotion</th>\n",
       "      <th>payment3x</th>\n",
       "      <th>payment2</th>\n",
       "      <th>payment3</th>\n",
       "      <th>country</th>\n",
       "      <th>region</th>\n",
       "      <th>department</th>\n",
       "      <th>city</th>\n",
       "      <th>inscription_diff_year</th>\n",
       "      <th>inscription_diff_day</th>\n",
       "    </tr>\n",
       "  </thead>\n",
       "  <tbody>\n",
       "    <tr>\n",
       "      <th>0</th>\n",
       "      <td>2019-09-27_244</td>\n",
       "      <td>2019-09-27</td>\n",
       "      <td>244</td>\n",
       "      <td>0</td>\n",
       "      <td>2019-09-27</td>\n",
       "      <td>1</td>\n",
       "      <td>0</td>\n",
       "      <td>None</td>\n",
       "      <td>0</td>\n",
       "      <td>0</td>\n",
       "      <td>0</td>\n",
       "      <td>0</td>\n",
       "      <td>0</td>\n",
       "      <td>FRA</td>\n",
       "      <td>Île-De-France</td>\n",
       "      <td>Paris</td>\n",
       "      <td>Paris</td>\n",
       "      <td>NaN</td>\n",
       "      <td>NaN</td>\n",
       "    </tr>\n",
       "    <tr>\n",
       "      <th>1</th>\n",
       "      <td>2021-10-06_874</td>\n",
       "      <td>2021-10-06</td>\n",
       "      <td>874</td>\n",
       "      <td>1</td>\n",
       "      <td>2018-10-04</td>\n",
       "      <td>0</td>\n",
       "      <td>1</td>\n",
       "      <td>2019-10-10</td>\n",
       "      <td>0</td>\n",
       "      <td>0</td>\n",
       "      <td>0</td>\n",
       "      <td>0</td>\n",
       "      <td>0</td>\n",
       "      <td>FRA</td>\n",
       "      <td>Basse-Normandie</td>\n",
       "      <td>Manche</td>\n",
       "      <td>Jullouville</td>\n",
       "      <td>2.0</td>\n",
       "      <td>727.0</td>\n",
       "    </tr>\n",
       "    <tr>\n",
       "      <th>2</th>\n",
       "      <td>2021-09-03_1749</td>\n",
       "      <td>2021-09-03</td>\n",
       "      <td>1749</td>\n",
       "      <td>0</td>\n",
       "      <td>2007-02-10</td>\n",
       "      <td>0</td>\n",
       "      <td>0</td>\n",
       "      <td>2020-08-15</td>\n",
       "      <td>0</td>\n",
       "      <td>0</td>\n",
       "      <td>0</td>\n",
       "      <td>0</td>\n",
       "      <td>0</td>\n",
       "      <td>REU</td>\n",
       "      <td>Saint-Paul</td>\n",
       "      <td>None</td>\n",
       "      <td>Saint-Gilles Les Bains</td>\n",
       "      <td>1.0</td>\n",
       "      <td>384.0</td>\n",
       "    </tr>\n",
       "    <tr>\n",
       "      <th>3</th>\n",
       "      <td>2021-04-12_2505</td>\n",
       "      <td>2021-04-12</td>\n",
       "      <td>2505</td>\n",
       "      <td>1</td>\n",
       "      <td>2019-04-13</td>\n",
       "      <td>0</td>\n",
       "      <td>1</td>\n",
       "      <td>2019-04-13</td>\n",
       "      <td>0</td>\n",
       "      <td>0</td>\n",
       "      <td>0</td>\n",
       "      <td>0</td>\n",
       "      <td>0</td>\n",
       "      <td>FRA</td>\n",
       "      <td>Grand Est</td>\n",
       "      <td>Meurthe-Et-Moselle</td>\n",
       "      <td>Nancy</td>\n",
       "      <td>2.0</td>\n",
       "      <td>730.0</td>\n",
       "    </tr>\n",
       "    <tr>\n",
       "      <th>4</th>\n",
       "      <td>2019-01-15_3103</td>\n",
       "      <td>2019-01-15</td>\n",
       "      <td>3103</td>\n",
       "      <td>1</td>\n",
       "      <td>2012-08-06</td>\n",
       "      <td>0</td>\n",
       "      <td>0</td>\n",
       "      <td>None</td>\n",
       "      <td>0</td>\n",
       "      <td>0</td>\n",
       "      <td>0</td>\n",
       "      <td>0</td>\n",
       "      <td>0</td>\n",
       "      <td>FRA</td>\n",
       "      <td>Midi-Pyrénées</td>\n",
       "      <td>Tarn</td>\n",
       "      <td>Lavaur</td>\n",
       "      <td>NaN</td>\n",
       "      <td>NaN</td>\n",
       "    </tr>\n",
       "  </tbody>\n",
       "</table>\n",
       "</div>"
      ],
      "text/plain": [
       "                pk subscription_date  user_id  renew first_subscription_date  \\\n",
       "0   2019-09-27_244        2019-09-27      244      0              2019-09-27   \n",
       "1   2021-10-06_874        2021-10-06      874      1              2018-10-04   \n",
       "2  2021-09-03_1749        2021-09-03     1749      0              2007-02-10   \n",
       "3  2021-04-12_2505        2021-04-12     2505      1              2019-04-13   \n",
       "4  2019-01-15_3103        2019-01-15     3103      1              2012-08-06   \n",
       "\n",
       "   first_subscription  is_zombie previous_inscription_date  referral  \\\n",
       "0                   1          0                      None         0   \n",
       "1                   0          1                2019-10-10         0   \n",
       "2                   0          0                2020-08-15         0   \n",
       "3                   0          1                2019-04-13         0   \n",
       "4                   0          0                      None         0   \n",
       "\n",
       "   promotion  payment3x  payment2  payment3 country           region  \\\n",
       "0          0          0         0         0     FRA    Île-De-France   \n",
       "1          0          0         0         0     FRA  Basse-Normandie   \n",
       "2          0          0         0         0     REU       Saint-Paul   \n",
       "3          0          0         0         0     FRA        Grand Est   \n",
       "4          0          0         0         0     FRA    Midi-Pyrénées   \n",
       "\n",
       "           department                    city  inscription_diff_year  \\\n",
       "0               Paris                   Paris                    NaN   \n",
       "1              Manche             Jullouville                    2.0   \n",
       "2                None  Saint-Gilles Les Bains                    1.0   \n",
       "3  Meurthe-Et-Moselle                   Nancy                    2.0   \n",
       "4                Tarn                  Lavaur                    NaN   \n",
       "\n",
       "   inscription_diff_day  \n",
       "0                   NaN  \n",
       "1                 727.0  \n",
       "2                 384.0  \n",
       "3                 730.0  \n",
       "4                   NaN  "
      ]
     },
     "execution_count": 9,
     "metadata": {},
     "output_type": "execute_result"
    }
   ],
   "source": [
    "test.head()"
   ]
  },
  {
   "cell_type": "markdown",
   "id": "e8c95f03",
   "metadata": {},
   "source": [
    "Exchange data"
   ]
  },
  {
   "cell_type": "code",
   "execution_count": 20,
   "id": "6f867eb5",
   "metadata": {},
   "outputs": [],
   "source": [
    "query = \"\"\"\n",
    "    SELECT *\n",
    "    FROM `datahomeexchange.dbt_ctherreau.exchanges`\n",
    "\"\"\"\n",
    "\n",
    "df = client.query(query).to_dataframe()\n",
    "#df.to_csv('data/exchanges.csv')"
   ]
  },
  {
   "cell_type": "code",
   "execution_count": 21,
   "id": "4b417046",
   "metadata": {},
   "outputs": [
    {
     "name": "stderr",
     "output_type": "stream",
     "text": [
      "/tmp/ipykernel_31906/879722126.py:1: PerformanceWarning: \n",
      "your performance may suffer as PyTables will pickle object types that it cannot\n",
      "map directly to c-types [inferred_type->mixed,key->block1_values] [items->Index(['created_at', 'start_on', 'end_on', 'exchange_type', 'home_type',\n",
      "       'residence_type', 'country', 'region', 'department', 'city'],\n",
      "      dtype='object')]\n",
      "\n",
      "  df.to_hdf('data/exchanges.h5', key='data')\n"
     ]
    }
   ],
   "source": [
    "df.to_hdf('data/exchanges.h5', key='data')"
   ]
  },
  {
   "cell_type": "code",
   "execution_count": null,
   "id": "d5310cb9",
   "metadata": {},
   "outputs": [],
   "source": []
  }
 ],
 "metadata": {
  "kernelspec": {
   "display_name": "Python 3 (ipykernel)",
   "language": "python",
   "name": "python3"
  },
  "language_info": {
   "codemirror_mode": {
    "name": "ipython",
    "version": 3
   },
   "file_extension": ".py",
   "mimetype": "text/x-python",
   "name": "python",
   "nbconvert_exporter": "python",
   "pygments_lexer": "ipython3",
   "version": "3.10.6"
  }
 },
 "nbformat": 4,
 "nbformat_minor": 5
}
