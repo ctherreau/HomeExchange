{
 "cells": [
  {
   "cell_type": "markdown",
   "id": "fda3f65c",
   "metadata": {},
   "source": [
    "## Load data \n",
    "\n",
    "- Load data from bigquery\n",
    "- Saved to csv \n",
    "    - To avoid doing big query resquest to many time\n",
    "    - To save cost \n"
   ]
  },
  {
   "cell_type": "code",
   "execution_count": 1,
   "id": "09a4f09c",
   "metadata": {},
   "outputs": [],
   "source": [
    "import pandas as pd"
   ]
  },
  {
   "cell_type": "code",
   "execution_count": 2,
   "id": "8e54113f",
   "metadata": {},
   "outputs": [
    {
     "name": "stdout",
     "output_type": "stream",
     "text": [
      "mkdir: cannot create directory ‘data’: File exists\r\n"
     ]
    }
   ],
   "source": [
    "%mkdir '../data'"
   ]
  },
  {
   "cell_type": "markdown",
   "id": "1f7ec30b",
   "metadata": {},
   "source": [
    "Subscrpition data"
   ]
  },
  {
   "cell_type": "code",
   "execution_count": 42,
   "id": "48b11edc",
   "metadata": {},
   "outputs": [],
   "source": [
    "from google.cloud import bigquery\n",
    "\n",
    "# Construct a BigQuery client object.\n",
    "client = bigquery.Client()\n",
    "query = \"\"\"\n",
    "    SELECT *\n",
    "    FROM `datahomeexchange.dbt_ctherreau.subscriptions`\n",
    "\"\"\"\n",
    "\n",
    "df = client.query(query).to_dataframe()"
   ]
  },
  {
   "cell_type": "code",
   "execution_count": 43,
   "id": "d25baa1d",
   "metadata": {},
   "outputs": [],
   "source": [
    "df.to_csv('../data/subscription.csv')"
   ]
  },
  {
   "cell_type": "code",
   "execution_count": 44,
   "id": "10e20461",
   "metadata": {},
   "outputs": [
    {
     "name": "stderr",
     "output_type": "stream",
     "text": [
      "/tmp/ipykernel_42203/3475585522.py:1: PerformanceWarning: \n",
      "your performance may suffer as PyTables will pickle object types that it cannot\n",
      "map directly to c-types [inferred_type->mixed,key->block0_values] [items->Index(['pk', 'subscription_date', 'first_subscription_date',\n",
      "       'previous_inscription_date', 'country', 'region', 'department', 'city'],\n",
      "      dtype='object')]\n",
      "\n",
      "  df.to_hdf('data/subscription.h5', key='data')\n"
     ]
    }
   ],
   "source": [
    "\n",
    "df.to_hdf('../data/subscription.h5', key='data')"
   ]
  },
  {
   "cell_type": "code",
   "execution_count": 60,
   "id": "78553c84",
   "metadata": {},
   "outputs": [],
   "source": [
    "#verification of loading\n",
    "test = pd.read_hdf('../data/subscription.h5', key='data')"
   ]
  },
  {
   "cell_type": "markdown",
   "id": "e8c95f03",
   "metadata": {},
   "source": [
    "Exchange data"
   ]
  },
  {
   "cell_type": "code",
   "execution_count": 20,
   "id": "6f867eb5",
   "metadata": {},
   "outputs": [],
   "source": [
    "query = \"\"\"\n",
    "    SELECT *\n",
    "    FROM `datahomeexchange.dbt_ctherreau.exchanges`\n",
    "\"\"\"\n",
    "\n",
    "df = client.query(query).to_dataframe()\n",
    "#df.to_csv('data/exchanges.csv')"
   ]
  },
  {
   "cell_type": "code",
   "execution_count": 21,
   "id": "4b417046",
   "metadata": {},
   "outputs": [
    {
     "name": "stderr",
     "output_type": "stream",
     "text": [
      "/tmp/ipykernel_31906/879722126.py:1: PerformanceWarning: \n",
      "your performance may suffer as PyTables will pickle object types that it cannot\n",
      "map directly to c-types [inferred_type->mixed,key->block1_values] [items->Index(['created_at', 'start_on', 'end_on', 'exchange_type', 'home_type',\n",
      "       'residence_type', 'country', 'region', 'department', 'city'],\n",
      "      dtype='object')]\n",
      "\n",
      "  df.to_hdf('data/exchanges.h5', key='data')\n"
     ]
    }
   ],
   "source": [
    "df.to_hdf('../data/exchanges.h5', key='data')"
   ]
  },
  {
   "cell_type": "markdown",
   "id": "a66266be",
   "metadata": {},
   "source": [
    "User data"
   ]
  },
  {
   "cell_type": "code",
   "execution_count": 5,
   "id": "d5310cb9",
   "metadata": {},
   "outputs": [],
   "source": [
    "from google.cloud import bigquery\n",
    "\n",
    "# Construct a BigQuery client object.\n",
    "client = bigquery.Client()\n",
    "query = \"\"\"\n",
    "    SELECT *\n",
    "    FROM `datahomeexchange.dbt_ctherreau.users`\n",
    "\"\"\""
   ]
  },
  {
   "cell_type": "code",
   "execution_count": 6,
   "id": "c8fb3c7e",
   "metadata": {},
   "outputs": [
    {
     "name": "stderr",
     "output_type": "stream",
     "text": [
      "/tmp/ipykernel_56634/3354219231.py:2: PerformanceWarning: \n",
      "your performance may suffer as PyTables will pickle object types that it cannot\n",
      "map directly to c-types [inferred_type->mixed,key->block1_values] [items->Index(['first_subscription_date', 'last_subscription_date', 'country'], dtype='object')]\n",
      "\n",
      "  df.to_hdf('data/users.h5', key='data')\n"
     ]
    }
   ],
   "source": [
    "df = client.query(query).to_dataframe()\n",
    "df.to_hdf('../data/users.h5', key='data')"
   ]
  },
  {
   "cell_type": "code",
   "execution_count": null,
   "id": "ceb1acf7",
   "metadata": {},
   "outputs": [],
   "source": []
  }
 ],
 "metadata": {
  "kernelspec": {
   "display_name": "Python 3 (ipykernel)",
   "language": "python",
   "name": "python3"
  },
  "language_info": {
   "codemirror_mode": {
    "name": "ipython",
    "version": 3
   },
   "file_extension": ".py",
   "mimetype": "text/x-python",
   "name": "python",
   "nbconvert_exporter": "python",
   "pygments_lexer": "ipython3",
   "version": "3.10.6"
  },
  "toc": {
   "base_numbering": 1,
   "nav_menu": {},
   "number_sections": true,
   "sideBar": true,
   "skip_h1_title": false,
   "title_cell": "Table of Contents",
   "title_sidebar": "Contents",
   "toc_cell": false,
   "toc_position": {},
   "toc_section_display": true,
   "toc_window_display": false
  }
 },
 "nbformat": 4,
 "nbformat_minor": 5
}
