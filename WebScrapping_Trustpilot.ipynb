{
 "cells": [
  {
   "cell_type": "code",
   "execution_count": 72,
   "id": "74761246",
   "metadata": {},
   "outputs": [],
   "source": [
    "import pandas as pd"
   ]
  },
  {
   "cell_type": "code",
   "execution_count": 1,
   "id": "d242885e",
   "metadata": {},
   "outputs": [],
   "source": [
    "import requests\n",
    "from bs4 import BeautifulSoup\n"
   ]
  },
  {
   "cell_type": "code",
   "execution_count": 25,
   "id": "1a171e63",
   "metadata": {},
   "outputs": [],
   "source": [
    "url_he = 'https://www.trustpilot.com/review/www.homeexchange.com'"
   ]
  },
  {
   "cell_type": "markdown",
   "id": "8c97366c",
   "metadata": {},
   "source": [
    "# Test Scrapping "
   ]
  },
  {
   "cell_type": "code",
   "execution_count": 23,
   "id": "5dd93d96",
   "metadata": {},
   "outputs": [],
   "source": [
    "response = requests.get(url)\n",
    "soup = BeautifulSoup(response.text, 'html.parser')"
   ]
  },
  {
   "cell_type": "code",
   "execution_count": 77,
   "id": "27d69aa9",
   "metadata": {},
   "outputs": [],
   "source": [
    "items=soup.find_all('div',class_=\"styles_reviewCardInner__EwDq2\")"
   ]
  },
  {
   "cell_type": "code",
   "execution_count": 78,
   "id": "8118e133",
   "metadata": {},
   "outputs": [],
   "source": [
    "rating = int(items[0].find('section', \n",
    "                           class_=\"styles_reviewContentwrapper__zH_9M\").find('div',\n",
    "                                                                            class_=\"styles_reviewHeader__iU9Px\").attrs['data-service-review-rating'])"
   ]
  },
  {
   "cell_type": "code",
   "execution_count": 79,
   "id": "6ede8de4",
   "metadata": {},
   "outputs": [],
   "source": [
    "country = items[0].find('div',class_=\"typography_body-m__xgxZ_ typography_appearance-subtle__8_H2l styles_detailsIcon__Fo_ua\").find('span').text\n"
   ]
  },
  {
   "cell_type": "code",
   "execution_count": 80,
   "id": "fa3ce4e4",
   "metadata": {},
   "outputs": [],
   "source": [
    "date = pd.to_datetime(items[0].find('time').attrs['datetime'], format='%Y-%m-%dT%H:%M:%S.000Z')"
   ]
  },
  {
   "cell_type": "markdown",
   "id": "9bc7993d",
   "metadata": {},
   "source": [
    "# Find last page"
   ]
  },
  {
   "cell_type": "code",
   "execution_count": 140,
   "id": "32ebb059",
   "metadata": {},
   "outputs": [],
   "source": [
    "lastpage = False\n",
    "i = 1\n",
    "while lastpage == False : \n",
    "    url = url_he+\"?page={}\".format(i)\n",
    "    response = requests.get(url)\n",
    "    soup = BeautifulSoup(response.text, 'html.parser')\n",
    "    try:\n",
    "        soup.find_all('nav',role=\"navigation\")[0].find_all('a')[-1].attrs['aria-disabled']            \n",
    "        lastpage = True\n",
    "        lastpagenumber = i\n",
    "    except KeyError:\n",
    "        lastpage = False\n",
    "        i = i+1"
   ]
  },
  {
   "cell_type": "code",
   "execution_count": 139,
   "id": "ef6584a7",
   "metadata": {},
   "outputs": [
    {
     "data": {
      "text/plain": [
       "123"
      ]
     },
     "execution_count": 139,
     "metadata": {},
     "output_type": "execute_result"
    }
   ],
   "source": [
    "lastpagenumber"
   ]
  },
  {
   "cell_type": "markdown",
   "id": "03a46018",
   "metadata": {},
   "source": [
    "# Loop"
   ]
  },
  {
   "cell_type": "code",
   "execution_count": 103,
   "id": "e8ddd4a0",
   "metadata": {},
   "outputs": [],
   "source": [
    "#loop through each review page\n",
    "date = []\n",
    "rating = []\n",
    "country = []\n",
    "for j in range(1, lastpagenumber+1):\n",
    "    \n",
    "    url = url_he+\"?page={}\".format(j)\n",
    "    response = requests.get(url)\n",
    "    soup = BeautifulSoup(response.text, 'html.parser')\n",
    "    items=soup.find_all('div',class_=\"styles_reviewCardInner__EwDq2\")\n",
    "\n",
    "    for i in range(len(items)) : \n",
    "        date.append(pd.to_datetime(items[i].find('time').attrs['datetime'][:-len('.188Z')], format='%Y-%m-%dT%H:%M:%S'))\n",
    "        rating.append(int(items[i].find('section', \n",
    "                                    class_=\"styles_reviewContentwrapper__zH_9M\").find('div',\n",
    "                                                                                      class_=\"styles_reviewHeader__iU9Px\").attrs['data-service-review-rating']))\n",
    "        country.append(items[i].find('div',\n",
    "                                     class_=\"typography_body-m__xgxZ_ typography_appearance-subtle__8_H2l styles_detailsIcon__Fo_ua\").find('span').text)\n",
    "        \n",
    "    "
   ]
  },
  {
   "cell_type": "code",
   "execution_count": 141,
   "id": "9532632d",
   "metadata": {},
   "outputs": [
    {
     "data": {
      "text/html": [
       "<div>\n",
       "<style scoped>\n",
       "    .dataframe tbody tr th:only-of-type {\n",
       "        vertical-align: middle;\n",
       "    }\n",
       "\n",
       "    .dataframe tbody tr th {\n",
       "        vertical-align: top;\n",
       "    }\n",
       "\n",
       "    .dataframe thead th {\n",
       "        text-align: right;\n",
       "    }\n",
       "</style>\n",
       "<table border=\"1\" class=\"dataframe\">\n",
       "  <thead>\n",
       "    <tr style=\"text-align: right;\">\n",
       "      <th></th>\n",
       "      <th>date</th>\n",
       "      <th>rating</th>\n",
       "      <th>country</th>\n",
       "    </tr>\n",
       "  </thead>\n",
       "  <tbody>\n",
       "    <tr>\n",
       "      <th>0</th>\n",
       "      <td>2023-05-12 16:52:56</td>\n",
       "      <td>5</td>\n",
       "      <td>IE</td>\n",
       "    </tr>\n",
       "    <tr>\n",
       "      <th>1</th>\n",
       "      <td>2023-05-13 14:23:08</td>\n",
       "      <td>3</td>\n",
       "      <td>US</td>\n",
       "    </tr>\n",
       "    <tr>\n",
       "      <th>2</th>\n",
       "      <td>2023-05-11 12:37:08</td>\n",
       "      <td>5</td>\n",
       "      <td>US</td>\n",
       "    </tr>\n",
       "    <tr>\n",
       "      <th>3</th>\n",
       "      <td>2023-05-10 10:35:24</td>\n",
       "      <td>5</td>\n",
       "      <td>GB</td>\n",
       "    </tr>\n",
       "    <tr>\n",
       "      <th>4</th>\n",
       "      <td>2023-05-20 16:50:04</td>\n",
       "      <td>5</td>\n",
       "      <td>FR</td>\n",
       "    </tr>\n",
       "    <tr>\n",
       "      <th>...</th>\n",
       "      <td>...</td>\n",
       "      <td>...</td>\n",
       "      <td>...</td>\n",
       "    </tr>\n",
       "    <tr>\n",
       "      <th>2449</th>\n",
       "      <td>2015-03-22 08:51:32</td>\n",
       "      <td>5</td>\n",
       "      <td>AT</td>\n",
       "    </tr>\n",
       "    <tr>\n",
       "      <th>2450</th>\n",
       "      <td>2015-03-16 03:31:36</td>\n",
       "      <td>5</td>\n",
       "      <td>US</td>\n",
       "    </tr>\n",
       "    <tr>\n",
       "      <th>2451</th>\n",
       "      <td>2014-11-24 17:57:51</td>\n",
       "      <td>5</td>\n",
       "      <td>US</td>\n",
       "    </tr>\n",
       "    <tr>\n",
       "      <th>2452</th>\n",
       "      <td>2014-03-04 20:09:06</td>\n",
       "      <td>3</td>\n",
       "      <td>DK</td>\n",
       "    </tr>\n",
       "    <tr>\n",
       "      <th>2453</th>\n",
       "      <td>2013-09-11 13:07:52</td>\n",
       "      <td>3</td>\n",
       "      <td>DK</td>\n",
       "    </tr>\n",
       "  </tbody>\n",
       "</table>\n",
       "<p>2454 rows × 3 columns</p>\n",
       "</div>"
      ],
      "text/plain": [
       "                    date  rating country\n",
       "0    2023-05-12 16:52:56       5      IE\n",
       "1    2023-05-13 14:23:08       3      US\n",
       "2    2023-05-11 12:37:08       5      US\n",
       "3    2023-05-10 10:35:24       5      GB\n",
       "4    2023-05-20 16:50:04       5      FR\n",
       "...                  ...     ...     ...\n",
       "2449 2015-03-22 08:51:32       5      AT\n",
       "2450 2015-03-16 03:31:36       5      US\n",
       "2451 2014-11-24 17:57:51       5      US\n",
       "2452 2014-03-04 20:09:06       3      DK\n",
       "2453 2013-09-11 13:07:52       3      DK\n",
       "\n",
       "[2454 rows x 3 columns]"
      ]
     },
     "execution_count": 141,
     "metadata": {},
     "output_type": "execute_result"
    }
   ],
   "source": [
    "rating_info = {\n",
    "        \"date\": date,\n",
    "        \"rating\": rating, \n",
    "        \"country\": country\n",
    "    }\n",
    "\n",
    "df = pd.DataFrame(rating_info)\n",
    "df"
   ]
  },
  {
   "cell_type": "code",
   "execution_count": 143,
   "id": "9d84a8c6",
   "metadata": {},
   "outputs": [],
   "source": [
    "import matplotlib.pyplot as plt"
   ]
  },
  {
   "cell_type": "code",
   "execution_count": 162,
   "id": "2d7c53cd",
   "metadata": {},
   "outputs": [
    {
     "data": {
      "image/png": "[encoded data removed]",
      "text/plain": [
       "<Figure size 640x480 with 1 Axes>"
      ]
     },
     "metadata": {},
     "output_type": "display_data"
    }
   ],
   "source": [
    "plt.hist(df.date, bins = (100))\n",
    "plt.show()"
   ]
  },
  {
   "cell_type": "code",
   "execution_count": 159,
   "id": "8c2c2079",
   "metadata": {},
   "outputs": [],
   "source": [
    "df.to_csv('data/trustpilot_rating_scrapping.csv')"
   ]
  },
  {
   "cell_type": "code",
   "execution_count": 160,
   "id": "3b9fe36c",
   "metadata": {},
   "outputs": [
    {
     "name": "stdout",
     "output_type": "stream",
     "text": [
      "\u001b[0m\u001b[01;32mexchanges.h5\u001b[0m*      \u001b[01;32msubscription.h5\u001b[0m*\r\n",
      "\u001b[01;32msubscription.csv\u001b[0m*  \u001b[01;32mtrustpilot_rating_scrapping.csv\u001b[0m*\r\n"
     ]
    }
   ],
   "source": [
    "%ls data"
   ]
  },
  {
   "cell_type": "code",
   "execution_count": null,
   "id": "70de5a2e",
   "metadata": {},
   "outputs": [],
   "source": []
  }
 ],
 "metadata": {
  "kernelspec": {
   "display_name": "Python 3 (ipykernel)",
   "language": "python",
   "name": "python3"
  },
  "language_info": {
   "codemirror_mode": {
    "name": "ipython",
    "version": 3
   },
   "file_extension": ".py",
   "mimetype": "text/x-python",
   "name": "python",
   "nbconvert_exporter": "python",
   "pygments_lexer": "ipython3",
   "version": "3.10.6"
  }
 },
 "nbformat": 4,
 "nbformat_minor": 5
}
