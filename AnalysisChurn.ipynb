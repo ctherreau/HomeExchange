{
 "cells": [
  {
   "cell_type": "code",
   "execution_count": 2,
   "id": "1e309078",
   "metadata": {},
   "outputs": [],
   "source": [
    "import plotly.express as px\n",
    "import numpy as np\n",
    "import matplotlib.pyplot as plt\n",
    "import seaborn as sns\n",
    "import pandas as pd\n",
    "\n",
    "import plotly.graph_objects as go\n",
    "from plotly.subplots import make_subplots"
   ]
  },
  {
   "cell_type": "code",
   "execution_count": 3,
   "id": "98346de2",
   "metadata": {},
   "outputs": [],
   "source": [
    "import plotly.io as pio\n",
    "pio.renderers.default='notebook'# to export on git and have plot shown : to have interactive = 'notebook'"
   ]
  },
  {
   "cell_type": "code",
   "execution_count": 4,
   "id": "6325d0f3",
   "metadata": {},
   "outputs": [],
   "source": [
    "def churn_rate_agg(x):\n",
    "    return 1-x.mean()\n",
    "import pycountry_convert as pc\n",
    "\n",
    "def country_to_continent(country_name):\n",
    "    country_alpha2 = pc.country_name_to_country_alpha2(country_name)\n",
    "    try:\n",
    "        country_continent_code = pc.country_alpha2_to_continent_code(country_alpha2)\n",
    "        country_continent_name = pc.convert_continent_code_to_continent_name(country_continent_code)\n",
    "\n",
    "    except KeyError as ke:\n",
    "        #only SX not found \n",
    "        country_continent_name = 'North America'\n",
    "        #print('continent not found ', country_alpha2)\n",
    "    return country_continent_name\n"
   ]
  },
  {
   "cell_type": "markdown",
   "id": "b2fd7725",
   "metadata": {},
   "source": [
    "# Home Exchange Presentation\n",
    "\n",
    "https://www.homeexchange.com/\n",
    "\n",
    "\n",
    "HomeExchange is a new way to travel.\n",
    "\n",
    "<img align=\"left\" src=\"homeexchange_slack.jpg\" alt= “” width=400 height=400>\n",
    "\n",
    "\n"
   ]
  },
  {
   "cell_type": "markdown",
   "id": "73e8b246",
   "metadata": {},
   "source": [
    "It is a major alternative to Airbnb where you swap houses. Registration is free, and you only pay the annual membership fee of 160€ when you find your first exchange. \n",
    "\n",
    "Subscription to the annual membership also give access to Guest Point (500GP for the first subscription and 250GP for the following ones). \n",
    "\n",
    "GuestPoints were created to enable non-reciprocal exchanges, when members cannot find someone to come to their home on the dates they would like to travel. \n",
    "Thanks to this system users are able to organize two types of exchanges on HomeExchange:\n",
    "\n",
    " - Reciprocal: User1 host the person (user2) whose home User1 is staying in (Users 1 and 2 are both the host and the guest)\n",
    " - Non-reciprocal: One member of the exchange is not interested in going to the other's home, in which he offer a pre-determined amount of GuestPoints per night for his hospitality (User can be either host or guest).\n",
    "\n",
    "For example: imagine that a German couple wants to come to your home, but you wish to travel to Italy, not Germany. Without GuestPoints a simple reciprocal exchange would not be possible in that case but with GuestPoints the German couple can come stay in your home in exchange for GuestPoints. You can then use these GuestPoints to stay in a home in Italy. GuestPoints exist to compensate for the hospitality of a host.\n",
    "\n",
    "\n",
    "\n",
    "## Problem presentation \n",
    "\n",
    "HomeExchange needs to understand why some of their customers leave. \n",
    "\n",
    "Several variables are available to identify whether seniority, activity as a guest or host, sponsorship, and subscriptions taken through promotions have an impact on the churn rate.\n",
    "\n",
    "\n",
    "\n",
    "## Data description\n",
    "\n",
    "Two datasets are provided by HomeExchange : \n",
    " - **Exchanges**: \n",
    "     - One line by exchanges initiated or received by users who have register (but not necessary subscribed).\n",
    "     - If exchanges is reciprocal, only one conversation is created (via the creator_id), but two exchanges are created.\n",
    "     - Data : \n",
    "         - conversation_id : id of the conversation\t(not unique)\n",
    "         - exchange_id : exchange id which is unique, even in case of reciprocal exchange (in this case conversation_id is the same for both exchange)\n",
    "         - created_at :date of conversation creation\n",
    "         - creator_id :user_id of the user that who initiated the conversation\n",
    "         - guest_user_id : user_id of the (potential) guest\t\n",
    "         - host_user_id : user_id of the (potential) host\tN\t\n",
    "         - finalized_at : date when the exchange was finalized (if null, it means that the exchange request was not successful)\t\n",
    "         - canceled_at: date when the finalized exchange has been cancelled\t\t\n",
    "         - start_on: date when the exchange starts (can be filled in even if the exchange is not finalized. It corresponds to the requested dates)\t\t\n",
    "         - end_on: date when the exchange ends (can be filled in even if the exchange is not finalized. It corresponds to the requested dates)\t\t\n",
    "         - guest_count : number of people coming\n",
    "         - night_count: number of nights of the exchange\t\t\n",
    "         - user_cancellation_id: user_id who canceled\t\t\n",
    "         - exchange_type: via Guest Points or reciprocal\t\t\n",
    "         - home_type: house or appartment\t\t\n",
    "         - residence_type: main or secondary house\t\t\n",
    "         - capacity: maximum number of people who can come\t\t\n",
    "         - country: host house country\t\t\n",
    "         - region: host house region\t\t\n",
    "         - department: host house department\t\t\n",
    "         - city: host house city\t\t\n",
    " - **Subscription**: \n",
    "     - One line per subscription (for subscription > 2019). \n",
    "     - **/!\\ subscription in 2019** can be a renew of a first subscription older than 2019\n",
    "     - If a user has subscribed several years, there are as many lines as subscriptions. \n",
    "     - If renew = 1 , you will find the subscription line and the renewal line for the next year\n",
    "     - Data : \n",
    "         - subscription_date : date of subscription of the user (can be a renew (not the first subscription))\tN\t\n",
    "         - user_id : id of the user\n",
    "         - renew : did the user re-subscribe the following year (the month of the expiration of his subscription)\t\t\n",
    "         - first_subscription_date : date of the first subscription (can be before 2019)\t\t\n",
    "         - first_subscription : 1 if it's the first subscription of the user\t\t\t\n",
    "         - referral : 1 if the user has been sponsored\t\t\n",
    "         - promotion : 1 if the user had a promotion for his/her subscription\t\t\n",
    "         - payment3x : 1 if the user has used the 3x payment to subscribe\t\t\n",
    "         - payment2 : 1 if the user hashas paid his/her 2nd payment\t\t\n",
    "         - payment3 : 1 if the user hashas paid his/her 3nd payment\t\t\n",
    "         - country : user country, if null, it might be a renew and the info is not saved here. Info will be retrieved in exchanges data file\t\t\n",
    "         - region : user region, if null, it might be a renew and the info is not saved here. Info will be retrieved in exchanges data file\t\t\n",
    "         - department : city : user city, if null, it might be a renew and the info is not saved here. Info will be retrieved in exchanges data file\n",
    "         \n",
    "         \n",
    "Datasets cover period from 2019-01-01 to 2022-11-30. As subscription are for one year, the maximal date subscription date is '2021-10-31'.\n",
    "\n",
    "Some cleaning and data enrichment was done in SQL (DBT) :\n",
    "  - Cleaning : \n",
    "      - Exchange data : \n",
    "          - Remove duplicated row \n",
    "          - Remove line were host and guest was the same user \n",
    "      - Subscription data : \n",
    "          - Remove duplicated row \n",
    "          - Remove user were there were more than 3 subscriptions in 3 years (not normal since subscription are annual)\n",
    "          - Add missing country, city and region info based on Exchange data (where user was host)\n",
    "  - Enrichment : \n",
    "      - Subscription data, add the following information :\n",
    "          - is_zombie : 1 if the user subscribe again after 1 year of absence (due to covid for example)\t\t\n",
    "          - previous_inscription_date : date of the previous subscription\t\n",
    "          - inscription_diff_year : difference in year between subscription_date and previous_subscription_date\t\t\n",
    "          - nb_of_inscription_by_users : nb of subscription by users between 2019 and 2021. Can only be <=3 (selection done on this key for removing strange behavior with more than 1 subscription per year)\n",
    "         \n",
    "**A new table was created in SQL BigQuery**\n",
    "\n",
    " - **User**: \n",
    "   - In this table, information such as the number of subscription of the user, the number of time the user did an exchange etc.. are summarized by users (one line per user)\n",
    "   - It is an join between Subscription and Exchange table\n",
    "   - Data : \n",
    "     - user_id : user_id, user can be a subscriber or not (in this case first subscription date is null)\t\t\n",
    "     - first_subscription_date : date of the first subscription (is any) of the user\t\t\n",
    "     - last_subscription_date : date of the last subscription (is any between 2019 and 2021) of the user\t\t\n",
    "     - nb_of_inscription : number of subscription of the user between 2019 and 2021 (can be more if user subscribe before 2019)\t\n",
    "     - mean_churn_rate : for subscription between 2019 and 2021, give the average churn rate for the user (for example, 3 subscription but only 2 renew, churn rate = 1 - 2/3 = 0.33)\t\t\n",
    "     - referall : 1 if the user were at least referall once, 0 if the user was never refer\t\t\n",
    "     - promotion : 1 if the user used at least one promotion, 0 if the user never used promotion\t\t\n",
    "     - country : country of the user\t\t\n",
    "     - nb_of_conversation_as_host : count the total number of conversation created were the user is host\t\t\n",
    "     - nb_of_conversation_as_host_notFinalized : count the total number of conversation that DID not become an exchange, were the user is host\t\t\n",
    "     - nb_of_exchange_as_host_done : count the total number of conversation that DID become an exchange and WAS NOT CANCEL, were the user is host\t\t\n",
    "     - nb_of_exchange_as_host_canceled : count the total number of conversation that DID become an exchange and WAS CANCEL, were the user is host\t\t\n",
    "     - nb_of_conversation_as_guest : count the total number of conversation created were the user is guest\t\t\n",
    "     - nb_of_conversation_as_guest_notFinalized : count the total number of conversation that DID not become an exchange, were the user is guest\t\t\n",
    "     - nb_of_exchange_as_guest_done : count the total number of conversation that DID become an exchange and WAS NOT CANCEL, were the user is guest\t\t\n",
    "     - nb_of_exchange_as_guest_canceled : count the total number of conversation that DID become an exchange and WAS CANCEL, were the user is guest\t\t\n",
    "     - nb_of_conversation_for_exchange : count the total number of conversation created for reciprocal exchange (user is both guest and host)\t\t\n",
    "     - nb_of_conversation_for_exchange_notFinalized : count the total number of conversation that DID NOT become an exchange (user is both guest and host)\t\t\n",
    "     - nb_of_exchange_as_exchange_done : count the total number of conversation that DID become an exchange and WAS NOT cancel for reciprocal exchange (user is both guest and host)\t\t\n",
    "     - nb_of_exchange_as_exchange_canceled : count the total number of conversation that DID become an exchange and WAS cancel for reciprocal exchange (user is both guest and host)\n",
    "     - total_exchange_done : total of exchange done by one users during the period (2019 - 2022)\n"
   ]
  },
  {
   "cell_type": "markdown",
   "id": "c521e5a3",
   "metadata": {},
   "source": [
    "# Load data "
   ]
  },
  {
   "cell_type": "markdown",
   "id": "2495a8b8",
   "metadata": {},
   "source": [
    "Subscription data : "
   ]
  },
  {
   "cell_type": "code",
   "execution_count": 17,
   "id": "bc6961fc",
   "metadata": {},
   "outputs": [
    {
     "name": "stdout",
     "output_type": "stream",
     "text": [
      "cleaning stage in SQL remove :  4.37 % of data\n"
     ]
    }
   ],
   "source": [
    "## Loadind dataset \n",
    "df_subs = pd.read_hdf('data/subscription.h5', key='data')\n",
    "\n",
    "len_=len(df_subs)\n",
    "\n",
    "# DONE IN SQL\n",
    "# #remove multiple inscription in same year while it's an annual subscription\n",
    "# multiplesub = df_subs.groupby('user_id').agg({'pk':'count', 'renew':'mean'})\n",
    "# print(len(multiplesub[multiplesub.pk>=4]))\n",
    "# df_subs=df_subs[~df_subs.user_id.isin(multiplesub[multiplesub.pk>=4].index.values)]\n",
    "# print(round(100-(len(df_subs)/len_)*100,1), ' % of double inscription for same user in the same year')\n",
    "\n",
    "# remove user wihtout country \n",
    "#df_subs = df_subs[df_subs.country.isnull()==False]\n",
    "\n",
    "print('cleaning stage in SQL remove : ', round(100-len_/100000*100, 2) , '% of data')\n",
    "\n",
    "# cast date\n",
    "df_subs['first_subscription_date']= pd.to_datetime(df_subs['first_subscription_date'])\n",
    "df_subs['subscription_date']= pd.to_datetime(df_subs['subscription_date'])\n",
    "df_subs['previous_subscription_date']= pd.to_datetime(df_subs['previous_inscription_date'])\n",
    "df_subs=df_subs.set_index('subscription_date')\n",
    "# add continent info\n",
    "df_subs['country'] = df_subs['country'].fillna('unknow')\n",
    "df_subs['continent'] = df_subs[\"country\"].apply(lambda x: country_to_continent(x) if x != 'unknow' else 'unknow')"
   ]
  },
  {
   "cell_type": "markdown",
   "id": "b083b0f7",
   "metadata": {},
   "source": [
    "Exchange data : "
   ]
  },
  {
   "cell_type": "code",
   "execution_count": 6,
   "id": "7f16616a",
   "metadata": {},
   "outputs": [],
   "source": [
    "df_exc = pd.read_hdf('data/exchanges.h5', key='data')\n",
    "df_exc['created_at']= pd.to_datetime(df_exc['created_at'])\n",
    "df_exc=df_exc.set_index('created_at')"
   ]
  },
  {
   "cell_type": "code",
   "execution_count": 7,
   "id": "1432760e",
   "metadata": {},
   "outputs": [],
   "source": [
    "# because of memory error\n",
    "df_exc_1 = df_exc[df_exc.index<pd.to_datetime('2021-06-01', format='%Y-%m-%d')]"
   ]
  },
  {
   "cell_type": "code",
   "execution_count": 8,
   "id": "9b333214",
   "metadata": {},
   "outputs": [],
   "source": [
    "df_exc_2 = df_exc[df_exc.index>=pd.to_datetime('2021-06-01', format='%Y-%m-%d')]\n",
    "df_exc = []"
   ]
  },
  {
   "cell_type": "code",
   "execution_count": 9,
   "id": "55265d5a",
   "metadata": {},
   "outputs": [],
   "source": [
    "df_exc_monthly_1=df_exc_1.resample(\"M\")[['exchange_id', 'finalized_at','canceled_at']].agg(['count', 'first'])\n",
    "df_exc_monthly_1.columns = df_exc_monthly_1.columns.map('_'.join)\n",
    "df_exc_monthly_1=df_exc_monthly_1.drop(columns='exchange_id_first')\n",
    "\n",
    "df_exc_monthly_2=df_exc_2.resample(\"M\")[['exchange_id', 'finalized_at','canceled_at']].agg(['count', 'first'])\n",
    "df_exc_monthly_2.columns = df_exc_monthly_2.columns.map('_'.join)\n",
    "df_exc_monthly_2=df_exc_monthly_2.drop(columns='exchange_id_first')\n",
    "\n",
    "df_exc_monthly = pd.concat([df_exc_monthly_1,df_exc_monthly_2])"
   ]
  },
  {
   "cell_type": "markdown",
   "id": "3ad55f5b",
   "metadata": {},
   "source": [
    "Users data :"
   ]
  },
  {
   "cell_type": "code",
   "execution_count": 27,
   "id": "1a412144",
   "metadata": {},
   "outputs": [
    {
     "name": "stdout",
     "output_type": "stream",
     "text": [
      "ok\n"
     ]
    }
   ],
   "source": [
    "df_users = pd.read_hdf('data/users.h5')\n",
    "df_users['country'] = df_users['country'].fillna('unknow')\n",
    "df_users['continent'] = df_users[\"country\"].apply(lambda x: country_to_continent(x) if x != 'unknow' else 'unknow')\n",
    "\n",
    "df_non_subscriber = df_users[df_users.first_subscription_date.isnull()]\n",
    "df_subscriber = df_users[~df_users.first_subscription_date.isnull()]\n",
    "\n",
    "\n",
    "df_non_subscriber_noexchange_atALL= df_non_subscriber[(df_non_subscriber.nb_of_exchange_as_host_done)+\n",
    "                                                      (df_non_subscriber.nb_of_exchange_as_guest_done)+\n",
    "                                                      (df_non_subscriber.nb_of_exchange_as_exchange_done)==0]\n",
    "\n",
    "\n",
    "\n",
    "df_subscriber = df_subscriber.fillna(0)\n",
    "df_subscriber['total_exchange_done'] = df_subscriber['nb_of_exchange_as_exchange_done'] + df_subscriber['nb_of_exchange_as_guest_done'] +  df_subscriber['nb_of_exchange_as_host_done']\n",
    "df_subscriber_only_host = df_subscriber[(df_subscriber.nb_of_exchange_as_guest_done==0)\n",
    "                                        &(df_subscriber.nb_of_exchange_as_host_done>0)\n",
    "                                        &(df_subscriber.nb_of_exchange_as_exchange_done==0)]\n",
    "\n",
    "df_subscriber_only_guest = df_subscriber[(df_subscriber.nb_of_exchange_as_guest_done>0)\n",
    "                                        &(df_subscriber.nb_of_exchange_as_host_done==0)\n",
    "                                        &(df_subscriber.nb_of_exchange_as_exchange_done==0)\n",
    "                                        ]\n",
    "\n",
    "df_subscriber_none = df_subscriber[(df_subscriber.nb_of_exchange_as_guest_done==0)\n",
    "                                        &(df_subscriber.nb_of_exchange_as_host_done==0)\n",
    "                                        &(df_subscriber.nb_of_exchange_as_exchange_done==0)]\n",
    "\n",
    "df_subscriber_both = df_subscriber[(df_subscriber.nb_of_exchange_as_exchange_done>0)|\n",
    "                                   ((df_subscriber.nb_of_exchange_as_guest_done>0)\n",
    "                                    &(df_subscriber.nb_of_exchange_as_host_done>0))]\n",
    "\n",
    "if (len(df_subscriber_only_host)+len(df_subscriber_only_guest)\n",
    "    +len(df_subscriber_none)+len(df_subscriber_both)) != len(df_subscriber):\n",
    "    print('missing data ?')\n",
    "else : print('ok')"
   ]
  },
  {
   "cell_type": "markdown",
   "id": "9e011228",
   "metadata": {},
   "source": [
    "# Subscription Analysis \n",
    "\n",
    "We first look at the subscription table which contain info for each user and for each subscription (there is one line per subscriptions (several lines for one user).\n",
    "\n",
    "This table will allow us to do some first investigation of why or which user leave after subscribed. \n",
    "In a next section, profile of churner will be studied (using Users table) \n"
   ]
  },
  {
   "cell_type": "markdown",
   "id": "8b4e2c25",
   "metadata": {},
   "source": [
    "## Churn Rate\n",
    "\n",
    "As renew is indicated in Subscription as 1 if the user re-subscribe and 0 if not, the churn rate can be determined as : \n",
    "\n",
    "**CR = 1 - mean(renew)**\n",
    "\n",
    "which is equivalent to calculate the number of time a user that did not re-subscribe devide by the total subscribtion.\n",
    "\n",
    "\n",
    "### Total churn rate"
   ]
  },
  {
   "cell_type": "code",
   "execution_count": 11,
   "id": "562d302c",
   "metadata": {},
   "outputs": [
    {
     "data": {
      "image/png": "[encoded data removed]"
     },
     "metadata": {},
     "output_type": "display_data"
    }
   ],
   "source": [
    "total_churn = round((1-df_subs[['renew']].mean()[0])*100,2)\n",
    "\n",
    "df_churn_tot = pd.DataFrame(dict({'status':['Churn','Renew'],'value':[total_churn,100-total_churn]}))\n",
    "\n",
    "fig = px.pie(data_frame=df_churn_tot,values='value', names='status',\n",
    "             color_discrete_sequence=px.colors.sequential.Magma_r)\n",
    "fig.show(\"png\")"
   ]
  },
  {
   "cell_type": "markdown",
   "id": "939c829d",
   "metadata": {},
   "source": [
    "A total of 33% of churn is experience for the period 2019 - 2022, for all users. "
   ]
  },
  {
   "cell_type": "markdown",
   "id": "66d78fde",
   "metadata": {},
   "source": [
    "### Churn rate by country\n",
    "\n",
    "The churn rate by continent is shown below, as well as the proportion of users that the country represent. "
   ]
  },
  {
   "cell_type": "code",
   "execution_count": 31,
   "id": "32211eec",
   "metadata": {},
   "outputs": [
    {
     "data": {
      "text/html": [
       "<div>                            <div id=\"21e076f4-c559-4c50-aaf2-859635ada350\" class=\"plotly-graph-div\" style=\"height:525px; width:100%;\"></div>            <script type=\"text/javascript\">                require([\"plotly\"], function(Plotly) {                    window.PLOTLYENV=window.PLOTLYENV || {};                                    if (document.getElementById(\"21e076f4-c559-4c50-aaf2-859635ada350\")) {                    Plotly.newPlot(                        \"21e076f4-c559-4c50-aaf2-859635ada350\",                        [{\"coloraxis\":\"coloraxis\",\"customdata\":[[428],[2227],[506],[1321],[581],[5805],[1112],[58],[99],[273],[256],[2972],[1677],[56],[12401],[122],[28665],[2381],[338],[204],[297],[424],[279],[1583],[709],[173],[4289],[51],[178],[870],[166],[56],[55],[3255],[572],[694],[71],[159],[69],[662],[109],[261],[70],[67],[82],[948],[165],[123],[16221],[290],[130]],\"geo\":\"geo\",\"hovertemplate\":\"<b>%{hovertext}</b><br><br>country=%{location}<br>user_id=%{customdata[0]}<br>renew=%{z}<extra></extra>\",\"hovertext\":[428.0,2227.0,506.0,1321.0,581.0,5805.0,1112.0,58.0,99.0,273.0,256.0,2972.0,1677.0,56.0,12401.0,122.0,28665.0,2381.0,338.0,204.0,297.0,424.0,279.0,1583.0,709.0,173.0,4289.0,51.0,178.0,870.0,166.0,56.0,55.0,3255.0,572.0,694.0,71.0,159.0,69.0,662.0,109.0,261.0,70.0,67.0,82.0,948.0,165.0,123.0,16221.0,290.0,130.0],\"locations\":[\"ARG\",\"AUS\",\"AUT\",\"BEL\",\"BRA\",\"CAN\",\"CHE\",\"CHL\",\"COL\",\"CRI\",\"CZE\",\"DEU\",\"DNK\",\"DOM\",\"ESP\",\"FIN\",\"FRA\",\"GBR\",\"GLP\",\"GRC\",\"HRV\",\"HUN\",\"IDN\",\"IRL\",\"ISL\",\"ISR\",\"ITA\",\"JPN\",\"MAR\",\"MEX\",\"MTQ\",\"MUS\",\"NCL\",\"NLD\",\"NOR\",\"NZL\",\"PAN\",\"POL\",\"PRI\",\"PRT\",\"PYF\",\"REU\",\"RUS\",\"SGP\",\"SVN\",\"SWE\",\"THA\",\"TUR\",\"USA\",\"ZAF\",\"unknow\"],\"name\":\"\",\"z\":[0.45560747663551404,0.33228558599012126,0.2509881422924901,0.2702498107494322,0.5180722891566265,0.33143841515934536,0.262589928057554,0.6206896551724138,0.4949494949494949,0.2857142857142857,0.34375,0.28600269179004034,0.2993440667859273,0.375,0.337392145794694,0.319672131147541,0.3507413221698936,0.3271734565308694,0.26331360946745563,0.3578431372549019,0.430976430976431,0.46226415094339623,0.32974910394265233,0.31648768161718255,0.3554301833568406,0.4393063583815029,0.3653532291909536,0.21568627450980393,0.4325842696629213,0.325287356321839,0.3493975903614458,0.4107142857142857,0.4,0.2639016897081413,0.32867132867132864,0.33141210374639773,0.2676056338028169,0.4276729559748428,0.2753623188405797,0.404833836858006,0.3669724770642202,0.27203065134099613,0.6714285714285715,0.29850746268656714,0.31707317073170727,0.30907172995780585,0.32121212121212117,0.5203252032520325,0.28715862153997906,0.38275862068965516,0.5076923076923077],\"type\":\"choropleth\"}],                        {\"template\":{\"data\":{\"histogram2dcontour\":[{\"type\":\"histogram2dcontour\",\"colorbar\":{\"outlinewidth\":0,\"ticks\":\"\"},\"colorscale\":[[0.0,\"#0d0887\"],[0.1111111111111111,\"#46039f\"],[0.2222222222222222,\"#7201a8\"],[0.3333333333333333,\"#9c179e\"],[0.4444444444444444,\"#bd3786\"],[0.5555555555555556,\"#d8576b\"],[0.6666666666666666,\"#ed7953\"],[0.7777777777777778,\"#fb9f3a\"],[0.8888888888888888,\"#fdca26\"],[1.0,\"#f0f921\"]]}],\"choropleth\":[{\"type\":\"choropleth\",\"colorbar\":{\"outlinewidth\":0,\"ticks\":\"\"}}],\"histogram2d\":[{\"type\":\"histogram2d\",\"colorbar\":{\"outlinewidth\":0,\"ticks\":\"\"},\"colorscale\":[[0.0,\"#0d0887\"],[0.1111111111111111,\"#46039f\"],[0.2222222222222222,\"#7201a8\"],[0.3333333333333333,\"#9c179e\"],[0.4444444444444444,\"#bd3786\"],[0.5555555555555556,\"#d8576b\"],[0.6666666666666666,\"#ed7953\"],[0.7777777777777778,\"#fb9f3a\"],[0.8888888888888888,\"#fdca26\"],[1.0,\"#f0f921\"]]}],\"heatmap\":[{\"type\":\"heatmap\",\"colorbar\":{\"outlinewidth\":0,\"ticks\":\"\"},\"colorscale\":[[0.0,\"#0d0887\"],[0.1111111111111111,\"#46039f\"],[0.2222222222222222,\"#7201a8\"],[0.3333333333333333,\"#9c179e\"],[0.4444444444444444,\"#bd3786\"],[0.5555555555555556,\"#d8576b\"],[0.6666666666666666,\"#ed7953\"],[0.7777777777777778,\"#fb9f3a\"],[0.8888888888888888,\"#fdca26\"],[1.0,\"#f0f921\"]]}],\"heatmapgl\":[{\"type\":\"heatmapgl\",\"colorbar\":{\"outlinewidth\":0,\"ticks\":\"\"},\"colorscale\":[[0.0,\"#0d0887\"],[0.1111111111111111,\"#46039f\"],[0.2222222222222222,\"#7201a8\"],[0.3333333333333333,\"#9c179e\"],[0.4444444444444444,\"#bd3786\"],[0.5555555555555556,\"#d8576b\"],[0.6666666666666666,\"#ed7953\"],[0.7777777777777778,\"#fb9f3a\"],[0.8888888888888888,\"#fdca26\"],[1.0,\"#f0f921\"]]}],\"contourcarpet\":[{\"type\":\"contourcarpet\",\"colorbar\":{\"outlinewidth\":0,\"ticks\":\"\"}}],\"contour\":[{\"type\":\"contour\",\"colorbar\":{\"outlinewidth\":0,\"ticks\":\"\"},\"colorscale\":[[0.0,\"#0d0887\"],[0.1111111111111111,\"#46039f\"],[0.2222222222222222,\"#7201a8\"],[0.3333333333333333,\"#9c179e\"],[0.4444444444444444,\"#bd3786\"],[0.5555555555555556,\"#d8576b\"],[0.6666666666666666,\"#ed7953\"],[0.7777777777777778,\"#fb9f3a\"],[0.8888888888888888,\"#fdca26\"],[1.0,\"#f0f921\"]]}],\"surface\":[{\"type\":\"surface\",\"colorbar\":{\"outlinewidth\":0,\"ticks\":\"\"},\"colorscale\":[[0.0,\"#0d0887\"],[0.1111111111111111,\"#46039f\"],[0.2222222222222222,\"#7201a8\"],[0.3333333333333333,\"#9c179e\"],[0.4444444444444444,\"#bd3786\"],[0.5555555555555556,\"#d8576b\"],[0.6666666666666666,\"#ed7953\"],[0.7777777777777778,\"#fb9f3a\"],[0.8888888888888888,\"#fdca26\"],[1.0,\"#f0f921\"]]}],\"mesh3d\":[{\"type\":\"mesh3d\",\"colorbar\":{\"outlinewidth\":0,\"ticks\":\"\"}}],\"scatter\":[{\"fillpattern\":{\"fillmode\":\"overlay\",\"size\":10,\"solidity\":0.2},\"type\":\"scatter\"}],\"parcoords\":[{\"type\":\"parcoords\",\"line\":{\"colorbar\":{\"outlinewidth\":0,\"ticks\":\"\"}}}],\"scatterpolargl\":[{\"type\":\"scatterpolargl\",\"marker\":{\"colorbar\":{\"outlinewidth\":0,\"ticks\":\"\"}}}],\"bar\":[{\"error_x\":{\"color\":\"#2a3f5f\"},\"error_y\":{\"color\":\"#2a3f5f\"},\"marker\":{\"line\":{\"color\":\"#E5ECF6\",\"width\":0.5},\"pattern\":{\"fillmode\":\"overlay\",\"size\":10,\"solidity\":0.2}},\"type\":\"bar\"}],\"scattergeo\":[{\"type\":\"scattergeo\",\"marker\":{\"colorbar\":{\"outlinewidth\":0,\"ticks\":\"\"}}}],\"scatterpolar\":[{\"type\":\"scatterpolar\",\"marker\":{\"colorbar\":{\"outlinewidth\":0,\"ticks\":\"\"}}}],\"histogram\":[{\"marker\":{\"pattern\":{\"fillmode\":\"overlay\",\"size\":10,\"solidity\":0.2}},\"type\":\"histogram\"}],\"scattergl\":[{\"type\":\"scattergl\",\"marker\":{\"colorbar\":{\"outlinewidth\":0,\"ticks\":\"\"}}}],\"scatter3d\":[{\"type\":\"scatter3d\",\"line\":{\"colorbar\":{\"outlinewidth\":0,\"ticks\":\"\"}},\"marker\":{\"colorbar\":{\"outlinewidth\":0,\"ticks\":\"\"}}}],\"scattermapbox\":[{\"type\":\"scattermapbox\",\"marker\":{\"colorbar\":{\"outlinewidth\":0,\"ticks\":\"\"}}}],\"scatterternary\":[{\"type\":\"scatterternary\",\"marker\":{\"colorbar\":{\"outlinewidth\":0,\"ticks\":\"\"}}}],\"scattercarpet\":[{\"type\":\"scattercarpet\",\"marker\":{\"colorbar\":{\"outlinewidth\":0,\"ticks\":\"\"}}}],\"carpet\":[{\"aaxis\":{\"endlinecolor\":\"#2a3f5f\",\"gridcolor\":\"white\",\"linecolor\":\"white\",\"minorgridcolor\":\"white\",\"startlinecolor\":\"#2a3f5f\"},\"baxis\":{\"endlinecolor\":\"#2a3f5f\",\"gridcolor\":\"white\",\"linecolor\":\"white\",\"minorgridcolor\":\"white\",\"startlinecolor\":\"#2a3f5f\"},\"type\":\"carpet\"}],\"table\":[{\"cells\":{\"fill\":{\"color\":\"#EBF0F8\"},\"line\":{\"color\":\"white\"}},\"header\":{\"fill\":{\"color\":\"#C8D4E3\"},\"line\":{\"color\":\"white\"}},\"type\":\"table\"}],\"barpolar\":[{\"marker\":{\"line\":{\"color\":\"#E5ECF6\",\"width\":0.5},\"pattern\":{\"fillmode\":\"overlay\",\"size\":10,\"solidity\":0.2}},\"type\":\"barpolar\"}],\"pie\":[{\"automargin\":true,\"type\":\"pie\"}]},\"layout\":{\"autotypenumbers\":\"strict\",\"colorway\":[\"#636efa\",\"#EF553B\",\"#00cc96\",\"#ab63fa\",\"#FFA15A\",\"#19d3f3\",\"#FF6692\",\"#B6E880\",\"#FF97FF\",\"#FECB52\"],\"font\":{\"color\":\"#2a3f5f\"},\"hovermode\":\"closest\",\"hoverlabel\":{\"align\":\"left\"},\"paper_bgcolor\":\"white\",\"plot_bgcolor\":\"#E5ECF6\",\"polar\":{\"bgcolor\":\"#E5ECF6\",\"angularaxis\":{\"gridcolor\":\"white\",\"linecolor\":\"white\",\"ticks\":\"\"},\"radialaxis\":{\"gridcolor\":\"white\",\"linecolor\":\"white\",\"ticks\":\"\"}},\"ternary\":{\"bgcolor\":\"#E5ECF6\",\"aaxis\":{\"gridcolor\":\"white\",\"linecolor\":\"white\",\"ticks\":\"\"},\"baxis\":{\"gridcolor\":\"white\",\"linecolor\":\"white\",\"ticks\":\"\"},\"caxis\":{\"gridcolor\":\"white\",\"linecolor\":\"white\",\"ticks\":\"\"}},\"coloraxis\":{\"colorbar\":{\"outlinewidth\":0,\"ticks\":\"\"}},\"colorscale\":{\"sequential\":[[0.0,\"#0d0887\"],[0.1111111111111111,\"#46039f\"],[0.2222222222222222,\"#7201a8\"],[0.3333333333333333,\"#9c179e\"],[0.4444444444444444,\"#bd3786\"],[0.5555555555555556,\"#d8576b\"],[0.6666666666666666,\"#ed7953\"],[0.7777777777777778,\"#fb9f3a\"],[0.8888888888888888,\"#fdca26\"],[1.0,\"#f0f921\"]],\"sequentialminus\":[[0.0,\"#0d0887\"],[0.1111111111111111,\"#46039f\"],[0.2222222222222222,\"#7201a8\"],[0.3333333333333333,\"#9c179e\"],[0.4444444444444444,\"#bd3786\"],[0.5555555555555556,\"#d8576b\"],[0.6666666666666666,\"#ed7953\"],[0.7777777777777778,\"#fb9f3a\"],[0.8888888888888888,\"#fdca26\"],[1.0,\"#f0f921\"]],\"diverging\":[[0,\"#8e0152\"],[0.1,\"#c51b7d\"],[0.2,\"#de77ae\"],[0.3,\"#f1b6da\"],[0.4,\"#fde0ef\"],[0.5,\"#f7f7f7\"],[0.6,\"#e6f5d0\"],[0.7,\"#b8e186\"],[0.8,\"#7fbc41\"],[0.9,\"#4d9221\"],[1,\"#276419\"]]},\"xaxis\":{\"gridcolor\":\"white\",\"linecolor\":\"white\",\"ticks\":\"\",\"title\":{\"standoff\":15},\"zerolinecolor\":\"white\",\"automargin\":true,\"zerolinewidth\":2},\"yaxis\":{\"gridcolor\":\"white\",\"linecolor\":\"white\",\"ticks\":\"\",\"title\":{\"standoff\":15},\"zerolinecolor\":\"white\",\"automargin\":true,\"zerolinewidth\":2},\"scene\":{\"xaxis\":{\"backgroundcolor\":\"#E5ECF6\",\"gridcolor\":\"white\",\"linecolor\":\"white\",\"showbackground\":true,\"ticks\":\"\",\"zerolinecolor\":\"white\",\"gridwidth\":2},\"yaxis\":{\"backgroundcolor\":\"#E5ECF6\",\"gridcolor\":\"white\",\"linecolor\":\"white\",\"showbackground\":true,\"ticks\":\"\",\"zerolinecolor\":\"white\",\"gridwidth\":2},\"zaxis\":{\"backgroundcolor\":\"#E5ECF6\",\"gridcolor\":\"white\",\"linecolor\":\"white\",\"showbackground\":true,\"ticks\":\"\",\"zerolinecolor\":\"white\",\"gridwidth\":2}},\"shapedefaults\":{\"line\":{\"color\":\"#2a3f5f\"}},\"annotationdefaults\":{\"arrowcolor\":\"#2a3f5f\",\"arrowhead\":0,\"arrowwidth\":1},\"geo\":{\"bgcolor\":\"white\",\"landcolor\":\"#E5ECF6\",\"subunitcolor\":\"white\",\"showland\":true,\"showlakes\":true,\"lakecolor\":\"white\"},\"title\":{\"x\":0.05},\"mapbox\":{\"style\":\"light\"}}},\"geo\":{\"domain\":{\"x\":[0.0,1.0],\"y\":[0.0,1.0]},\"center\":{}},\"coloraxis\":{\"colorbar\":{\"title\":{\"text\":\"Churn Rate\"}},\"colorscale\":[[0.0,\"#0d0887\"],[0.1111111111111111,\"#46039f\"],[0.2222222222222222,\"#7201a8\"],[0.3333333333333333,\"#9c179e\"],[0.4444444444444444,\"#bd3786\"],[0.5555555555555556,\"#d8576b\"],[0.6666666666666666,\"#ed7953\"],[0.7777777777777778,\"#fb9f3a\"],[0.8888888888888888,\"#fdca26\"],[1.0,\"#f0f921\"]],\"cmin\":0,\"cmax\":1},\"legend\":{\"tracegroupgap\":0},\"margin\":{\"t\":60},\"title\":{\"text\":\"Churn rate by country (for country is more than 50 users)\"}},                        {\"responsive\": true}                    ).then(function(){\n",
       "                            \n",
       "var gd = document.getElementById('21e076f4-c559-4c50-aaf2-859635ada350');\n",
       "var x = new MutationObserver(function (mutations, observer) {{\n",
       "        var display = window.getComputedStyle(gd).display;\n",
       "        if (!display || display === 'none') {{\n",
       "            console.log([gd, 'removed!']);\n",
       "            Plotly.purge(gd);\n",
       "            observer.disconnect();\n",
       "        }}\n",
       "}});\n",
       "\n",
       "// Listen for the removal of the full notebook cells\n",
       "var notebookContainer = gd.closest('#notebook-container');\n",
       "if (notebookContainer) {{\n",
       "    x.observe(notebookContainer, {childList: true});\n",
       "}}\n",
       "\n",
       "// Listen for the clearing of the current output cell\n",
       "var outputEl = gd.closest('.output');\n",
       "if (outputEl) {{\n",
       "    x.observe(outputEl, {childList: true});\n",
       "}}\n",
       "\n",
       "                        })                };                });            </script>        </div>"
      ]
     },
     "metadata": {},
     "output_type": "display_data"
    }
   ],
   "source": [
    "here = df_subs.copy()\n",
    "\n",
    "here = here.groupby('country').agg({'renew':churn_rate_agg, 'user_id':'count'}).reset_index()\n",
    "here = here[here.user_id >50]\n",
    "fig = px.choropleth(here,locations='country',\n",
    "                         color='renew', hover_name='user_id', hover_data=['user_id'], range_color=[0,1],\n",
    "                    # marker=dict(opacity=0.1), \n",
    "                       )\n",
    "\n",
    "fig.update_layout(coloraxis_colorbar=dict(title=\"Churn Rate\"))\n",
    "fig.update_layout(title =\"Churn rate by country (for country is more than 50 users)\")\n",
    "\n",
    "fig.show()"
   ]
  },
  {
   "cell_type": "code",
   "execution_count": 53,
   "id": "106b0746",
   "metadata": {},
   "outputs": [
    {
     "data": {
      "text/html": [
       "<div>                            <div id=\"c7463a75-6e16-42f6-a042-74e5ac395a52\" class=\"plotly-graph-div\" style=\"height:525px; width:100%;\"></div>            <script type=\"text/javascript\">                require([\"plotly\"], function(Plotly) {                    window.PLOTLYENV=window.PLOTLYENV || {};                                    if (document.getElementById(\"c7463a75-6e16-42f6-a042-74e5ac395a52\")) {                    Plotly.newPlot(                        \"c7463a75-6e16-42f6-a042-74e5ac395a52\",                        [{\"hovertemplate\":\"=Proportion of users<br>Continent=%{x}<br>%=%{y}<extra></extra>\",\"legendgroup\":\"Proportion of users\",\"line\":{\"color\":\"black\",\"dash\":\"solid\",\"width\":2},\"marker\":{\"symbol\":\"circle\"},\"mode\":\"markers+lines\",\"name\":\"Proportion of users\",\"orientation\":\"v\",\"showlegend\":true,\"x\":[\"Africa\",\"Asia\",\"Europe\",\"North America\",\"Oceania\",\"South America\",\"unknow\"],\"xaxis\":\"x\",\"y\":[0.9505385339328662,1.18372895534874,67.91278887378438,25.218027815539056,3.248980445466904,1.349994771515215,0.13594060441284114],\"yaxis\":\"y\",\"type\":\"scatter\"},{\"name\":\"Churn Rate\",\"x\":[\"Africa\",\"Asia\",\"Europe\",\"North America\",\"Oceania\",\"South America\",\"unknow\"],\"y\":[37.733773377337734,38.074204946996474,33.663869427977524,29.996682700281973,33.34406179594465,49.34159566227731,50.76923076923077],\"type\":\"bar\"}],                        {\"template\":{\"data\":{\"histogram2dcontour\":[{\"type\":\"histogram2dcontour\",\"colorbar\":{\"outlinewidth\":0,\"ticks\":\"\"},\"colorscale\":[[0.0,\"#0d0887\"],[0.1111111111111111,\"#46039f\"],[0.2222222222222222,\"#7201a8\"],[0.3333333333333333,\"#9c179e\"],[0.4444444444444444,\"#bd3786\"],[0.5555555555555556,\"#d8576b\"],[0.6666666666666666,\"#ed7953\"],[0.7777777777777778,\"#fb9f3a\"],[0.8888888888888888,\"#fdca26\"],[1.0,\"#f0f921\"]]}],\"choropleth\":[{\"type\":\"choropleth\",\"colorbar\":{\"outlinewidth\":0,\"ticks\":\"\"}}],\"histogram2d\":[{\"type\":\"histogram2d\",\"colorbar\":{\"outlinewidth\":0,\"ticks\":\"\"},\"colorscale\":[[0.0,\"#0d0887\"],[0.1111111111111111,\"#46039f\"],[0.2222222222222222,\"#7201a8\"],[0.3333333333333333,\"#9c179e\"],[0.4444444444444444,\"#bd3786\"],[0.5555555555555556,\"#d8576b\"],[0.6666666666666666,\"#ed7953\"],[0.7777777777777778,\"#fb9f3a\"],[0.8888888888888888,\"#fdca26\"],[1.0,\"#f0f921\"]]}],\"heatmap\":[{\"type\":\"heatmap\",\"colorbar\":{\"outlinewidth\":0,\"ticks\":\"\"},\"colorscale\":[[0.0,\"#0d0887\"],[0.1111111111111111,\"#46039f\"],[0.2222222222222222,\"#7201a8\"],[0.3333333333333333,\"#9c179e\"],[0.4444444444444444,\"#bd3786\"],[0.5555555555555556,\"#d8576b\"],[0.6666666666666666,\"#ed7953\"],[0.7777777777777778,\"#fb9f3a\"],[0.8888888888888888,\"#fdca26\"],[1.0,\"#f0f921\"]]}],\"heatmapgl\":[{\"type\":\"heatmapgl\",\"colorbar\":{\"outlinewidth\":0,\"ticks\":\"\"},\"colorscale\":[[0.0,\"#0d0887\"],[0.1111111111111111,\"#46039f\"],[0.2222222222222222,\"#7201a8\"],[0.3333333333333333,\"#9c179e\"],[0.4444444444444444,\"#bd3786\"],[0.5555555555555556,\"#d8576b\"],[0.6666666666666666,\"#ed7953\"],[0.7777777777777778,\"#fb9f3a\"],[0.8888888888888888,\"#fdca26\"],[1.0,\"#f0f921\"]]}],\"contourcarpet\":[{\"type\":\"contourcarpet\",\"colorbar\":{\"outlinewidth\":0,\"ticks\":\"\"}}],\"contour\":[{\"type\":\"contour\",\"colorbar\":{\"outlinewidth\":0,\"ticks\":\"\"},\"colorscale\":[[0.0,\"#0d0887\"],[0.1111111111111111,\"#46039f\"],[0.2222222222222222,\"#7201a8\"],[0.3333333333333333,\"#9c179e\"],[0.4444444444444444,\"#bd3786\"],[0.5555555555555556,\"#d8576b\"],[0.6666666666666666,\"#ed7953\"],[0.7777777777777778,\"#fb9f3a\"],[0.8888888888888888,\"#fdca26\"],[1.0,\"#f0f921\"]]}],\"surface\":[{\"type\":\"surface\",\"colorbar\":{\"outlinewidth\":0,\"ticks\":\"\"},\"colorscale\":[[0.0,\"#0d0887\"],[0.1111111111111111,\"#46039f\"],[0.2222222222222222,\"#7201a8\"],[0.3333333333333333,\"#9c179e\"],[0.4444444444444444,\"#bd3786\"],[0.5555555555555556,\"#d8576b\"],[0.6666666666666666,\"#ed7953\"],[0.7777777777777778,\"#fb9f3a\"],[0.8888888888888888,\"#fdca26\"],[1.0,\"#f0f921\"]]}],\"mesh3d\":[{\"type\":\"mesh3d\",\"colorbar\":{\"outlinewidth\":0,\"ticks\":\"\"}}],\"scatter\":[{\"fillpattern\":{\"fillmode\":\"overlay\",\"size\":10,\"solidity\":0.2},\"type\":\"scatter\"}],\"parcoords\":[{\"type\":\"parcoords\",\"line\":{\"colorbar\":{\"outlinewidth\":0,\"ticks\":\"\"}}}],\"scatterpolargl\":[{\"type\":\"scatterpolargl\",\"marker\":{\"colorbar\":{\"outlinewidth\":0,\"ticks\":\"\"}}}],\"bar\":[{\"error_x\":{\"color\":\"#2a3f5f\"},\"error_y\":{\"color\":\"#2a3f5f\"},\"marker\":{\"line\":{\"color\":\"#E5ECF6\",\"width\":0.5},\"pattern\":{\"fillmode\":\"overlay\",\"size\":10,\"solidity\":0.2}},\"type\":\"bar\"}],\"scattergeo\":[{\"type\":\"scattergeo\",\"marker\":{\"colorbar\":{\"outlinewidth\":0,\"ticks\":\"\"}}}],\"scatterpolar\":[{\"type\":\"scatterpolar\",\"marker\":{\"colorbar\":{\"outlinewidth\":0,\"ticks\":\"\"}}}],\"histogram\":[{\"marker\":{\"pattern\":{\"fillmode\":\"overlay\",\"size\":10,\"solidity\":0.2}},\"type\":\"histogram\"}],\"scattergl\":[{\"type\":\"scattergl\",\"marker\":{\"colorbar\":{\"outlinewidth\":0,\"ticks\":\"\"}}}],\"scatter3d\":[{\"type\":\"scatter3d\",\"line\":{\"colorbar\":{\"outlinewidth\":0,\"ticks\":\"\"}},\"marker\":{\"colorbar\":{\"outlinewidth\":0,\"ticks\":\"\"}}}],\"scattermapbox\":[{\"type\":\"scattermapbox\",\"marker\":{\"colorbar\":{\"outlinewidth\":0,\"ticks\":\"\"}}}],\"scatterternary\":[{\"type\":\"scatterternary\",\"marker\":{\"colorbar\":{\"outlinewidth\":0,\"ticks\":\"\"}}}],\"scattercarpet\":[{\"type\":\"scattercarpet\",\"marker\":{\"colorbar\":{\"outlinewidth\":0,\"ticks\":\"\"}}}],\"carpet\":[{\"aaxis\":{\"endlinecolor\":\"#2a3f5f\",\"gridcolor\":\"white\",\"linecolor\":\"white\",\"minorgridcolor\":\"white\",\"startlinecolor\":\"#2a3f5f\"},\"baxis\":{\"endlinecolor\":\"#2a3f5f\",\"gridcolor\":\"white\",\"linecolor\":\"white\",\"minorgridcolor\":\"white\",\"startlinecolor\":\"#2a3f5f\"},\"type\":\"carpet\"}],\"table\":[{\"cells\":{\"fill\":{\"color\":\"#EBF0F8\"},\"line\":{\"color\":\"white\"}},\"header\":{\"fill\":{\"color\":\"#C8D4E3\"},\"line\":{\"color\":\"white\"}},\"type\":\"table\"}],\"barpolar\":[{\"marker\":{\"line\":{\"color\":\"#E5ECF6\",\"width\":0.5},\"pattern\":{\"fillmode\":\"overlay\",\"size\":10,\"solidity\":0.2}},\"type\":\"barpolar\"}],\"pie\":[{\"automargin\":true,\"type\":\"pie\"}]},\"layout\":{\"autotypenumbers\":\"strict\",\"colorway\":[\"#636efa\",\"#EF553B\",\"#00cc96\",\"#ab63fa\",\"#FFA15A\",\"#19d3f3\",\"#FF6692\",\"#B6E880\",\"#FF97FF\",\"#FECB52\"],\"font\":{\"color\":\"#2a3f5f\"},\"hovermode\":\"closest\",\"hoverlabel\":{\"align\":\"left\"},\"paper_bgcolor\":\"white\",\"plot_bgcolor\":\"#E5ECF6\",\"polar\":{\"bgcolor\":\"#E5ECF6\",\"angularaxis\":{\"gridcolor\":\"white\",\"linecolor\":\"white\",\"ticks\":\"\"},\"radialaxis\":{\"gridcolor\":\"white\",\"linecolor\":\"white\",\"ticks\":\"\"}},\"ternary\":{\"bgcolor\":\"#E5ECF6\",\"aaxis\":{\"gridcolor\":\"white\",\"linecolor\":\"white\",\"ticks\":\"\"},\"baxis\":{\"gridcolor\":\"white\",\"linecolor\":\"white\",\"ticks\":\"\"},\"caxis\":{\"gridcolor\":\"white\",\"linecolor\":\"white\",\"ticks\":\"\"}},\"coloraxis\":{\"colorbar\":{\"outlinewidth\":0,\"ticks\":\"\"}},\"colorscale\":{\"sequential\":[[0.0,\"#0d0887\"],[0.1111111111111111,\"#46039f\"],[0.2222222222222222,\"#7201a8\"],[0.3333333333333333,\"#9c179e\"],[0.4444444444444444,\"#bd3786\"],[0.5555555555555556,\"#d8576b\"],[0.6666666666666666,\"#ed7953\"],[0.7777777777777778,\"#fb9f3a\"],[0.8888888888888888,\"#fdca26\"],[1.0,\"#f0f921\"]],\"sequentialminus\":[[0.0,\"#0d0887\"],[0.1111111111111111,\"#46039f\"],[0.2222222222222222,\"#7201a8\"],[0.3333333333333333,\"#9c179e\"],[0.4444444444444444,\"#bd3786\"],[0.5555555555555556,\"#d8576b\"],[0.6666666666666666,\"#ed7953\"],[0.7777777777777778,\"#fb9f3a\"],[0.8888888888888888,\"#fdca26\"],[1.0,\"#f0f921\"]],\"diverging\":[[0,\"#8e0152\"],[0.1,\"#c51b7d\"],[0.2,\"#de77ae\"],[0.3,\"#f1b6da\"],[0.4,\"#fde0ef\"],[0.5,\"#f7f7f7\"],[0.6,\"#e6f5d0\"],[0.7,\"#b8e186\"],[0.8,\"#7fbc41\"],[0.9,\"#4d9221\"],[1,\"#276419\"]]},\"xaxis\":{\"gridcolor\":\"white\",\"linecolor\":\"white\",\"ticks\":\"\",\"title\":{\"standoff\":15},\"zerolinecolor\":\"white\",\"automargin\":true,\"zerolinewidth\":2},\"yaxis\":{\"gridcolor\":\"white\",\"linecolor\":\"white\",\"ticks\":\"\",\"title\":{\"standoff\":15},\"zerolinecolor\":\"white\",\"automargin\":true,\"zerolinewidth\":2},\"scene\":{\"xaxis\":{\"backgroundcolor\":\"#E5ECF6\",\"gridcolor\":\"white\",\"linecolor\":\"white\",\"showbackground\":true,\"ticks\":\"\",\"zerolinecolor\":\"white\",\"gridwidth\":2},\"yaxis\":{\"backgroundcolor\":\"#E5ECF6\",\"gridcolor\":\"white\",\"linecolor\":\"white\",\"showbackground\":true,\"ticks\":\"\",\"zerolinecolor\":\"white\",\"gridwidth\":2},\"zaxis\":{\"backgroundcolor\":\"#E5ECF6\",\"gridcolor\":\"white\",\"linecolor\":\"white\",\"showbackground\":true,\"ticks\":\"\",\"zerolinecolor\":\"white\",\"gridwidth\":2}},\"shapedefaults\":{\"line\":{\"color\":\"#2a3f5f\"}},\"annotationdefaults\":{\"arrowcolor\":\"#2a3f5f\",\"arrowhead\":0,\"arrowwidth\":1},\"geo\":{\"bgcolor\":\"white\",\"landcolor\":\"#E5ECF6\",\"subunitcolor\":\"white\",\"showland\":true,\"showlakes\":true,\"lakecolor\":\"white\"},\"title\":{\"x\":0.05},\"mapbox\":{\"style\":\"light\"}}},\"xaxis\":{\"anchor\":\"y\",\"domain\":[0.0,1.0],\"title\":{\"text\":\"Continent\"}},\"yaxis\":{\"anchor\":\"x\",\"domain\":[0.0,1.0],\"title\":{\"text\":\"%\"},\"range\":[0,100]},\"legend\":{\"title\":{\"text\":\"\"},\"tracegroupgap\":0},\"margin\":{\"t\":60}},                        {\"responsive\": true}                    ).then(function(){\n",
       "                            \n",
       "var gd = document.getElementById('c7463a75-6e16-42f6-a042-74e5ac395a52');\n",
       "var x = new MutationObserver(function (mutations, observer) {{\n",
       "        var display = window.getComputedStyle(gd).display;\n",
       "        if (!display || display === 'none') {{\n",
       "            console.log([gd, 'removed!']);\n",
       "            Plotly.purge(gd);\n",
       "            observer.disconnect();\n",
       "        }}\n",
       "}});\n",
       "\n",
       "// Listen for the removal of the full notebook cells\n",
       "var notebookContainer = gd.closest('#notebook-container');\n",
       "if (notebookContainer) {{\n",
       "    x.observe(notebookContainer, {childList: true});\n",
       "}}\n",
       "\n",
       "// Listen for the clearing of the current output cell\n",
       "var outputEl = gd.closest('.output');\n",
       "if (outputEl) {{\n",
       "    x.observe(outputEl, {childList: true});\n",
       "}}\n",
       "\n",
       "                        })                };                });            </script>        </div>"
      ]
     },
     "metadata": {},
     "output_type": "display_data"
    }
   ],
   "source": [
    "\n",
    "fig = px.line(x=df_subs.groupby('continent').agg({'user_id':'count', 'renew':churn_rate_agg}).reset_index().continent,\n",
    "              y=df_subs.groupby('continent').agg({'user_id':'count', 'renew':churn_rate_agg}).reset_index().user_id/len(df_subs)*100, \n",
    "              range_y=[0,100],\n",
    "              labels=dict(x=\"Continent\", y=\"%\", color=\"\"),\n",
    "              color=px.Constant(\"Proportion of users\"),markers=True, )\n",
    "\n",
    "fig.update_traces(line_color='black', line_width=2)\n",
    "\n",
    "#px.bar(barmode='group', title ='',range_y=[0,100],)\n",
    "\n",
    "fig.add_bar(x=df_subs.groupby('continent').agg({'user_id':'count', 'renew':churn_rate_agg}).reset_index().continent,\n",
    "            y=df_subs.groupby('continent').agg({'user_id':'count', 'renew':churn_rate_agg}).reset_index().renew*100, \n",
    "            name='Churn Rate')\n",
    "\n",
    "fig.update_yaxes(title_text=\"%\")\n",
    "fig.update_xaxes(title_text=\"Continent\")\n",
    "\n",
    "fig.show()\n"
   ]
  },
  {
   "cell_type": "markdown",
   "id": "0bc46658",
   "metadata": {},
   "source": [
    "  - South America has the highest churn rate, but with a very low number of users. \n",
    "  - Europe and North America represent the largest proportion of users. \n",
    "  - European have a highest churn rate compare to North America. This is due to the fact that North American may tend to take out a subscription before finding an exchange and/or renew without even having taken advantage of their subscription :\n",
    "     - **I suspect that North Amrican does have automatic renew while European have not.**\n",
    "     - This can be verify by looking at the churn rate for USA's users vs France's users that did 0 exchange during the all 2019-2022 period and that still renew their subscription : "
   ]
  },
  {
   "cell_type": "code",
   "execution_count": 54,
   "id": "8b74f64b",
   "metadata": {},
   "outputs": [
    {
     "data": {
      "text/html": [
       "<div>                            <div id=\"052111fc-cbb1-406f-a861-89bf9295c57d\" class=\"plotly-graph-div\" style=\"height:525px; width:100%;\"></div>            <script type=\"text/javascript\">                require([\"plotly\"], function(Plotly) {                    window.PLOTLYENV=window.PLOTLYENV || {};                                    if (document.getElementById(\"052111fc-cbb1-406f-a861-89bf9295c57d\")) {                    Plotly.newPlot(                        \"052111fc-cbb1-406f-a861-89bf9295c57d\",                        [{\"alignmentgroup\":\"True\",\"hovertemplate\":\"<extra></extra>\",\"legendgroup\":\"\",\"marker\":{\"color\":\"#636efa\",\"pattern\":{\"shape\":\"\"}},\"name\":\"\",\"offsetgroup\":\"\",\"orientation\":\"v\",\"showlegend\":false,\"textposition\":\"auto\",\"xaxis\":\"x\",\"yaxis\":\"y\",\"type\":\"bar\"},{\"name\":\"Churn Rate\",\"x\":[\"USA\",\"France\"],\"y\":[42.96340973059912,65.13397287462786],\"type\":\"bar\"}],                        {\"template\":{\"data\":{\"histogram2dcontour\":[{\"type\":\"histogram2dcontour\",\"colorbar\":{\"outlinewidth\":0,\"ticks\":\"\"},\"colorscale\":[[0.0,\"#0d0887\"],[0.1111111111111111,\"#46039f\"],[0.2222222222222222,\"#7201a8\"],[0.3333333333333333,\"#9c179e\"],[0.4444444444444444,\"#bd3786\"],[0.5555555555555556,\"#d8576b\"],[0.6666666666666666,\"#ed7953\"],[0.7777777777777778,\"#fb9f3a\"],[0.8888888888888888,\"#fdca26\"],[1.0,\"#f0f921\"]]}],\"choropleth\":[{\"type\":\"choropleth\",\"colorbar\":{\"outlinewidth\":0,\"ticks\":\"\"}}],\"histogram2d\":[{\"type\":\"histogram2d\",\"colorbar\":{\"outlinewidth\":0,\"ticks\":\"\"},\"colorscale\":[[0.0,\"#0d0887\"],[0.1111111111111111,\"#46039f\"],[0.2222222222222222,\"#7201a8\"],[0.3333333333333333,\"#9c179e\"],[0.4444444444444444,\"#bd3786\"],[0.5555555555555556,\"#d8576b\"],[0.6666666666666666,\"#ed7953\"],[0.7777777777777778,\"#fb9f3a\"],[0.8888888888888888,\"#fdca26\"],[1.0,\"#f0f921\"]]}],\"heatmap\":[{\"type\":\"heatmap\",\"colorbar\":{\"outlinewidth\":0,\"ticks\":\"\"},\"colorscale\":[[0.0,\"#0d0887\"],[0.1111111111111111,\"#46039f\"],[0.2222222222222222,\"#7201a8\"],[0.3333333333333333,\"#9c179e\"],[0.4444444444444444,\"#bd3786\"],[0.5555555555555556,\"#d8576b\"],[0.6666666666666666,\"#ed7953\"],[0.7777777777777778,\"#fb9f3a\"],[0.8888888888888888,\"#fdca26\"],[1.0,\"#f0f921\"]]}],\"heatmapgl\":[{\"type\":\"heatmapgl\",\"colorbar\":{\"outlinewidth\":0,\"ticks\":\"\"},\"colorscale\":[[0.0,\"#0d0887\"],[0.1111111111111111,\"#46039f\"],[0.2222222222222222,\"#7201a8\"],[0.3333333333333333,\"#9c179e\"],[0.4444444444444444,\"#bd3786\"],[0.5555555555555556,\"#d8576b\"],[0.6666666666666666,\"#ed7953\"],[0.7777777777777778,\"#fb9f3a\"],[0.8888888888888888,\"#fdca26\"],[1.0,\"#f0f921\"]]}],\"contourcarpet\":[{\"type\":\"contourcarpet\",\"colorbar\":{\"outlinewidth\":0,\"ticks\":\"\"}}],\"contour\":[{\"type\":\"contour\",\"colorbar\":{\"outlinewidth\":0,\"ticks\":\"\"},\"colorscale\":[[0.0,\"#0d0887\"],[0.1111111111111111,\"#46039f\"],[0.2222222222222222,\"#7201a8\"],[0.3333333333333333,\"#9c179e\"],[0.4444444444444444,\"#bd3786\"],[0.5555555555555556,\"#d8576b\"],[0.6666666666666666,\"#ed7953\"],[0.7777777777777778,\"#fb9f3a\"],[0.8888888888888888,\"#fdca26\"],[1.0,\"#f0f921\"]]}],\"surface\":[{\"type\":\"surface\",\"colorbar\":{\"outlinewidth\":0,\"ticks\":\"\"},\"colorscale\":[[0.0,\"#0d0887\"],[0.1111111111111111,\"#46039f\"],[0.2222222222222222,\"#7201a8\"],[0.3333333333333333,\"#9c179e\"],[0.4444444444444444,\"#bd3786\"],[0.5555555555555556,\"#d8576b\"],[0.6666666666666666,\"#ed7953\"],[0.7777777777777778,\"#fb9f3a\"],[0.8888888888888888,\"#fdca26\"],[1.0,\"#f0f921\"]]}],\"mesh3d\":[{\"type\":\"mesh3d\",\"colorbar\":{\"outlinewidth\":0,\"ticks\":\"\"}}],\"scatter\":[{\"fillpattern\":{\"fillmode\":\"overlay\",\"size\":10,\"solidity\":0.2},\"type\":\"scatter\"}],\"parcoords\":[{\"type\":\"parcoords\",\"line\":{\"colorbar\":{\"outlinewidth\":0,\"ticks\":\"\"}}}],\"scatterpolargl\":[{\"type\":\"scatterpolargl\",\"marker\":{\"colorbar\":{\"outlinewidth\":0,\"ticks\":\"\"}}}],\"bar\":[{\"error_x\":{\"color\":\"#2a3f5f\"},\"error_y\":{\"color\":\"#2a3f5f\"},\"marker\":{\"line\":{\"color\":\"#E5ECF6\",\"width\":0.5},\"pattern\":{\"fillmode\":\"overlay\",\"size\":10,\"solidity\":0.2}},\"type\":\"bar\"}],\"scattergeo\":[{\"type\":\"scattergeo\",\"marker\":{\"colorbar\":{\"outlinewidth\":0,\"ticks\":\"\"}}}],\"scatterpolar\":[{\"type\":\"scatterpolar\",\"marker\":{\"colorbar\":{\"outlinewidth\":0,\"ticks\":\"\"}}}],\"histogram\":[{\"marker\":{\"pattern\":{\"fillmode\":\"overlay\",\"size\":10,\"solidity\":0.2}},\"type\":\"histogram\"}],\"scattergl\":[{\"type\":\"scattergl\",\"marker\":{\"colorbar\":{\"outlinewidth\":0,\"ticks\":\"\"}}}],\"scatter3d\":[{\"type\":\"scatter3d\",\"line\":{\"colorbar\":{\"outlinewidth\":0,\"ticks\":\"\"}},\"marker\":{\"colorbar\":{\"outlinewidth\":0,\"ticks\":\"\"}}}],\"scattermapbox\":[{\"type\":\"scattermapbox\",\"marker\":{\"colorbar\":{\"outlinewidth\":0,\"ticks\":\"\"}}}],\"scatterternary\":[{\"type\":\"scatterternary\",\"marker\":{\"colorbar\":{\"outlinewidth\":0,\"ticks\":\"\"}}}],\"scattercarpet\":[{\"type\":\"scattercarpet\",\"marker\":{\"colorbar\":{\"outlinewidth\":0,\"ticks\":\"\"}}}],\"carpet\":[{\"aaxis\":{\"endlinecolor\":\"#2a3f5f\",\"gridcolor\":\"white\",\"linecolor\":\"white\",\"minorgridcolor\":\"white\",\"startlinecolor\":\"#2a3f5f\"},\"baxis\":{\"endlinecolor\":\"#2a3f5f\",\"gridcolor\":\"white\",\"linecolor\":\"white\",\"minorgridcolor\":\"white\",\"startlinecolor\":\"#2a3f5f\"},\"type\":\"carpet\"}],\"table\":[{\"cells\":{\"fill\":{\"color\":\"#EBF0F8\"},\"line\":{\"color\":\"white\"}},\"header\":{\"fill\":{\"color\":\"#C8D4E3\"},\"line\":{\"color\":\"white\"}},\"type\":\"table\"}],\"barpolar\":[{\"marker\":{\"line\":{\"color\":\"#E5ECF6\",\"width\":0.5},\"pattern\":{\"fillmode\":\"overlay\",\"size\":10,\"solidity\":0.2}},\"type\":\"barpolar\"}],\"pie\":[{\"automargin\":true,\"type\":\"pie\"}]},\"layout\":{\"autotypenumbers\":\"strict\",\"colorway\":[\"#636efa\",\"#EF553B\",\"#00cc96\",\"#ab63fa\",\"#FFA15A\",\"#19d3f3\",\"#FF6692\",\"#B6E880\",\"#FF97FF\",\"#FECB52\"],\"font\":{\"color\":\"#2a3f5f\"},\"hovermode\":\"closest\",\"hoverlabel\":{\"align\":\"left\"},\"paper_bgcolor\":\"white\",\"plot_bgcolor\":\"#E5ECF6\",\"polar\":{\"bgcolor\":\"#E5ECF6\",\"angularaxis\":{\"gridcolor\":\"white\",\"linecolor\":\"white\",\"ticks\":\"\"},\"radialaxis\":{\"gridcolor\":\"white\",\"linecolor\":\"white\",\"ticks\":\"\"}},\"ternary\":{\"bgcolor\":\"#E5ECF6\",\"aaxis\":{\"gridcolor\":\"white\",\"linecolor\":\"white\",\"ticks\":\"\"},\"baxis\":{\"gridcolor\":\"white\",\"linecolor\":\"white\",\"ticks\":\"\"},\"caxis\":{\"gridcolor\":\"white\",\"linecolor\":\"white\",\"ticks\":\"\"}},\"coloraxis\":{\"colorbar\":{\"outlinewidth\":0,\"ticks\":\"\"}},\"colorscale\":{\"sequential\":[[0.0,\"#0d0887\"],[0.1111111111111111,\"#46039f\"],[0.2222222222222222,\"#7201a8\"],[0.3333333333333333,\"#9c179e\"],[0.4444444444444444,\"#bd3786\"],[0.5555555555555556,\"#d8576b\"],[0.6666666666666666,\"#ed7953\"],[0.7777777777777778,\"#fb9f3a\"],[0.8888888888888888,\"#fdca26\"],[1.0,\"#f0f921\"]],\"sequentialminus\":[[0.0,\"#0d0887\"],[0.1111111111111111,\"#46039f\"],[0.2222222222222222,\"#7201a8\"],[0.3333333333333333,\"#9c179e\"],[0.4444444444444444,\"#bd3786\"],[0.5555555555555556,\"#d8576b\"],[0.6666666666666666,\"#ed7953\"],[0.7777777777777778,\"#fb9f3a\"],[0.8888888888888888,\"#fdca26\"],[1.0,\"#f0f921\"]],\"diverging\":[[0,\"#8e0152\"],[0.1,\"#c51b7d\"],[0.2,\"#de77ae\"],[0.3,\"#f1b6da\"],[0.4,\"#fde0ef\"],[0.5,\"#f7f7f7\"],[0.6,\"#e6f5d0\"],[0.7,\"#b8e186\"],[0.8,\"#7fbc41\"],[0.9,\"#4d9221\"],[1,\"#276419\"]]},\"xaxis\":{\"gridcolor\":\"white\",\"linecolor\":\"white\",\"ticks\":\"\",\"title\":{\"standoff\":15},\"zerolinecolor\":\"white\",\"automargin\":true,\"zerolinewidth\":2},\"yaxis\":{\"gridcolor\":\"white\",\"linecolor\":\"white\",\"ticks\":\"\",\"title\":{\"standoff\":15},\"zerolinecolor\":\"white\",\"automargin\":true,\"zerolinewidth\":2},\"scene\":{\"xaxis\":{\"backgroundcolor\":\"#E5ECF6\",\"gridcolor\":\"white\",\"linecolor\":\"white\",\"showbackground\":true,\"ticks\":\"\",\"zerolinecolor\":\"white\",\"gridwidth\":2},\"yaxis\":{\"backgroundcolor\":\"#E5ECF6\",\"gridcolor\":\"white\",\"linecolor\":\"white\",\"showbackground\":true,\"ticks\":\"\",\"zerolinecolor\":\"white\",\"gridwidth\":2},\"zaxis\":{\"backgroundcolor\":\"#E5ECF6\",\"gridcolor\":\"white\",\"linecolor\":\"white\",\"showbackground\":true,\"ticks\":\"\",\"zerolinecolor\":\"white\",\"gridwidth\":2}},\"shapedefaults\":{\"line\":{\"color\":\"#2a3f5f\"}},\"annotationdefaults\":{\"arrowcolor\":\"#2a3f5f\",\"arrowhead\":0,\"arrowwidth\":1},\"geo\":{\"bgcolor\":\"white\",\"landcolor\":\"#E5ECF6\",\"subunitcolor\":\"white\",\"showland\":true,\"showlakes\":true,\"lakecolor\":\"white\"},\"title\":{\"x\":0.05},\"mapbox\":{\"style\":\"light\"}}},\"xaxis\":{\"anchor\":\"y\",\"domain\":[0.0,1.0],\"title\":{\"text\":\"Country\"}},\"yaxis\":{\"anchor\":\"x\",\"domain\":[0.0,1.0],\"range\":[0,100],\"title\":{\"text\":\"Mean churn rate (%)\"}},\"legend\":{\"tracegroupgap\":0},\"margin\":{\"t\":60},\"barmode\":\"group\",\"title\":{\"text\":\"Mean churn rate for users with 0 exchange between 2019 and 2022\"}},                        {\"responsive\": true}                    ).then(function(){\n",
       "                            \n",
       "var gd = document.getElementById('052111fc-cbb1-406f-a861-89bf9295c57d');\n",
       "var x = new MutationObserver(function (mutations, observer) {{\n",
       "        var display = window.getComputedStyle(gd).display;\n",
       "        if (!display || display === 'none') {{\n",
       "            console.log([gd, 'removed!']);\n",
       "            Plotly.purge(gd);\n",
       "            observer.disconnect();\n",
       "        }}\n",
       "}});\n",
       "\n",
       "// Listen for the removal of the full notebook cells\n",
       "var notebookContainer = gd.closest('#notebook-container');\n",
       "if (notebookContainer) {{\n",
       "    x.observe(notebookContainer, {childList: true});\n",
       "}}\n",
       "\n",
       "// Listen for the clearing of the current output cell\n",
       "var outputEl = gd.closest('.output');\n",
       "if (outputEl) {{\n",
       "    x.observe(outputEl, {childList: true});\n",
       "}}\n",
       "\n",
       "                        })                };                });            </script>        </div>"
      ]
     },
     "metadata": {},
     "output_type": "display_data"
    }
   ],
   "source": [
    "test = df_subscriber[(df_subscriber.country=='USA') & (df_subscriber.total_exchange_done==0)]\n",
    "usa_churn = np.average(test.mean_churn_rate,weights=test.nb_of_inscription)\n",
    "\n",
    "test = df_subscriber[(df_subscriber.country=='FRA') & (df_subscriber.total_exchange_done==0)]\n",
    "french_churn = np.average(test.mean_churn_rate,weights=test.nb_of_inscription)\n",
    "\n",
    "df= pd.DataFrame(dict({'country':['USA','France'],'mean_churn_rate':[usa_churn, french_churn]}))\n",
    "\n",
    "fig = px.bar(barmode='group', title ='',range_y=[0,100],)\n",
    "\n",
    "fig.add_bar(x=df.country,\n",
    "            y=df.mean_churn_rate*100,\n",
    "            name='Churn Rate')\n",
    "\n",
    "\n",
    "fig.update_yaxes(title_text=\"Mean churn rate (%)\")\n",
    "fig.update_xaxes(title_text=\"Country\")\n",
    "\n",
    "fig.update_layout(title =\"Mean churn rate for users with 0 exchange between 2019 and 2022\")\n",
    "\n",
    "fig.show()"
   ]
  },
  {
   "cell_type": "markdown",
   "id": "852f5503",
   "metadata": {},
   "source": [
    "The churn rate for users that did 0 exchange between 2019 and 2022 is much smaller for USA's users compare to French's users"
   ]
  },
  {
   "cell_type": "markdown",
   "id": "dee7243c",
   "metadata": {},
   "source": [
    "## Churn rate as a function of time"
   ]
  },
  {
   "cell_type": "code",
   "execution_count": 56,
   "id": "d8a2b15f",
   "metadata": {},
   "outputs": [],
   "source": [
    "\n",
    "df_monthly  = df_subs.resample(\"2W\").agg({'user_id': 'count', 'renew':'mean',\n",
    "                                          'first_subscription':'mean',\n",
    "                                                'is_zombie':'mean','promotion':'mean'})\n"
   ]
  },
  {
   "cell_type": "code",
   "execution_count": 57,
   "id": "435f7db5",
   "metadata": {},
   "outputs": [],
   "source": [
    "df_monthly = df_monthly.rename(columns={\"user_id\": \"subscription_count\", \n",
    "                                        \"renew\": \"churn_percentage\", \n",
    "                                        \"is_zombie\":\"return_percentage\"})\n",
    "\n"
   ]
  },
  {
   "cell_type": "code",
   "execution_count": 59,
   "id": "499cdd6f",
   "metadata": {},
   "outputs": [
    {
     "data": {
      "text/html": [
       "<div>                            <div id=\"edb29fdd-36c7-49be-bbff-31245191989c\" class=\"plotly-graph-div\" style=\"height:525px; width:100%;\"></div>            <script type=\"text/javascript\">                require([\"plotly\"], function(Plotly) {                    window.PLOTLYENV=window.PLOTLYENV || {};                                    if (document.getElementById(\"edb29fdd-36c7-49be-bbff-31245191989c\")) {                    Plotly.newPlot(                        \"edb29fdd-36c7-49be-bbff-31245191989c\",                        [{\"line\":{\"color\":\"firebrick\",\"dash\":\"dot\",\"width\":3},\"name\":\"Subscription Count\",\"x\":[\"2019-01-06T00:00:00\",\"2019-01-20T00:00:00\",\"2019-02-03T00:00:00\",\"2019-02-17T00:00:00\",\"2019-03-03T00:00:00\",\"2019-03-17T00:00:00\",\"2019-03-31T00:00:00\",\"2019-04-14T00:00:00\",\"2019-04-28T00:00:00\",\"2019-05-12T00:00:00\",\"2019-05-26T00:00:00\",\"2019-06-09T00:00:00\",\"2019-06-23T00:00:00\",\"2019-07-07T00:00:00\",\"2019-07-21T00:00:00\",\"2019-08-04T00:00:00\",\"2019-08-18T00:00:00\",\"2019-09-01T00:00:00\",\"2019-09-15T00:00:00\",\"2019-09-29T00:00:00\",\"2019-10-13T00:00:00\",\"2019-10-27T00:00:00\",\"2019-11-10T00:00:00\",\"2019-11-24T00:00:00\",\"2019-12-08T00:00:00\",\"2019-12-22T00:00:00\",\"2020-01-05T00:00:00\",\"2020-01-19T00:00:00\",\"2020-02-02T00:00:00\",\"2020-02-16T00:00:00\",\"2020-03-01T00:00:00\",\"2020-03-15T00:00:00\",\"2020-03-29T00:00:00\",\"2020-04-12T00:00:00\",\"2020-04-26T00:00:00\",\"2020-05-10T00:00:00\",\"2020-05-24T00:00:00\",\"2020-06-07T00:00:00\",\"2020-06-21T00:00:00\",\"2020-07-05T00:00:00\",\"2020-07-19T00:00:00\",\"2020-08-02T00:00:00\",\"2020-08-16T00:00:00\",\"2020-08-30T00:00:00\",\"2020-09-13T00:00:00\",\"2020-09-27T00:00:00\",\"2020-10-11T00:00:00\",\"2020-10-25T00:00:00\",\"2020-11-08T00:00:00\",\"2020-11-22T00:00:00\",\"2020-12-06T00:00:00\",\"2020-12-20T00:00:00\",\"2021-01-03T00:00:00\",\"2021-01-17T00:00:00\",\"2021-01-31T00:00:00\",\"2021-02-14T00:00:00\",\"2021-02-28T00:00:00\",\"2021-03-14T00:00:00\",\"2021-03-28T00:00:00\",\"2021-04-11T00:00:00\",\"2021-04-25T00:00:00\",\"2021-05-09T00:00:00\",\"2021-05-23T00:00:00\",\"2021-06-06T00:00:00\",\"2021-06-20T00:00:00\",\"2021-07-04T00:00:00\",\"2021-07-18T00:00:00\",\"2021-08-01T00:00:00\",\"2021-08-15T00:00:00\",\"2021-08-29T00:00:00\",\"2021-09-12T00:00:00\",\"2021-09-26T00:00:00\",\"2021-10-10T00:00:00\",\"2021-10-24T00:00:00\",\"2021-11-07T00:00:00\"],\"y\":[546,1595,1366,1294,1408,1294,1225,1423,1150,1250,1041,1067,1136,1182,1153,1118,938,1427,972,1149,1150,1184,1637,1703,2725,952,1265,1840,1994,1788,1901,1356,723,857,709,725,760,1166,1337,1476,1209,1199,939,1143,965,1047,1119,1032,1055,883,1823,837,1107,1588,1724,1423,1809,1366,972,1021,998,1261,1293,1576,1686,1730,1602,1789,1125,1202,1236,1139,1408,1370,972],\"type\":\"scatter\",\"xaxis\":\"x\",\"yaxis\":\"y\"}],                        {\"template\":{\"data\":{\"histogram2dcontour\":[{\"type\":\"histogram2dcontour\",\"colorbar\":{\"outlinewidth\":0,\"ticks\":\"\"},\"colorscale\":[[0.0,\"#0d0887\"],[0.1111111111111111,\"#46039f\"],[0.2222222222222222,\"#7201a8\"],[0.3333333333333333,\"#9c179e\"],[0.4444444444444444,\"#bd3786\"],[0.5555555555555556,\"#d8576b\"],[0.6666666666666666,\"#ed7953\"],[0.7777777777777778,\"#fb9f3a\"],[0.8888888888888888,\"#fdca26\"],[1.0,\"#f0f921\"]]}],\"choropleth\":[{\"type\":\"choropleth\",\"colorbar\":{\"outlinewidth\":0,\"ticks\":\"\"}}],\"histogram2d\":[{\"type\":\"histogram2d\",\"colorbar\":{\"outlinewidth\":0,\"ticks\":\"\"},\"colorscale\":[[0.0,\"#0d0887\"],[0.1111111111111111,\"#46039f\"],[0.2222222222222222,\"#7201a8\"],[0.3333333333333333,\"#9c179e\"],[0.4444444444444444,\"#bd3786\"],[0.5555555555555556,\"#d8576b\"],[0.6666666666666666,\"#ed7953\"],[0.7777777777777778,\"#fb9f3a\"],[0.8888888888888888,\"#fdca26\"],[1.0,\"#f0f921\"]]}],\"heatmap\":[{\"type\":\"heatmap\",\"colorbar\":{\"outlinewidth\":0,\"ticks\":\"\"},\"colorscale\":[[0.0,\"#0d0887\"],[0.1111111111111111,\"#46039f\"],[0.2222222222222222,\"#7201a8\"],[0.3333333333333333,\"#9c179e\"],[0.4444444444444444,\"#bd3786\"],[0.5555555555555556,\"#d8576b\"],[0.6666666666666666,\"#ed7953\"],[0.7777777777777778,\"#fb9f3a\"],[0.8888888888888888,\"#fdca26\"],[1.0,\"#f0f921\"]]}],\"heatmapgl\":[{\"type\":\"heatmapgl\",\"colorbar\":{\"outlinewidth\":0,\"ticks\":\"\"},\"colorscale\":[[0.0,\"#0d0887\"],[0.1111111111111111,\"#46039f\"],[0.2222222222222222,\"#7201a8\"],[0.3333333333333333,\"#9c179e\"],[0.4444444444444444,\"#bd3786\"],[0.5555555555555556,\"#d8576b\"],[0.6666666666666666,\"#ed7953\"],[0.7777777777777778,\"#fb9f3a\"],[0.8888888888888888,\"#fdca26\"],[1.0,\"#f0f921\"]]}],\"contourcarpet\":[{\"type\":\"contourcarpet\",\"colorbar\":{\"outlinewidth\":0,\"ticks\":\"\"}}],\"contour\":[{\"type\":\"contour\",\"colorbar\":{\"outlinewidth\":0,\"ticks\":\"\"},\"colorscale\":[[0.0,\"#0d0887\"],[0.1111111111111111,\"#46039f\"],[0.2222222222222222,\"#7201a8\"],[0.3333333333333333,\"#9c179e\"],[0.4444444444444444,\"#bd3786\"],[0.5555555555555556,\"#d8576b\"],[0.6666666666666666,\"#ed7953\"],[0.7777777777777778,\"#fb9f3a\"],[0.8888888888888888,\"#fdca26\"],[1.0,\"#f0f921\"]]}],\"surface\":[{\"type\":\"surface\",\"colorbar\":{\"outlinewidth\":0,\"ticks\":\"\"},\"colorscale\":[[0.0,\"#0d0887\"],[0.1111111111111111,\"#46039f\"],[0.2222222222222222,\"#7201a8\"],[0.3333333333333333,\"#9c179e\"],[0.4444444444444444,\"#bd3786\"],[0.5555555555555556,\"#d8576b\"],[0.6666666666666666,\"#ed7953\"],[0.7777777777777778,\"#fb9f3a\"],[0.8888888888888888,\"#fdca26\"],[1.0,\"#f0f921\"]]}],\"mesh3d\":[{\"type\":\"mesh3d\",\"colorbar\":{\"outlinewidth\":0,\"ticks\":\"\"}}],\"scatter\":[{\"fillpattern\":{\"fillmode\":\"overlay\",\"size\":10,\"solidity\":0.2},\"type\":\"scatter\"}],\"parcoords\":[{\"type\":\"parcoords\",\"line\":{\"colorbar\":{\"outlinewidth\":0,\"ticks\":\"\"}}}],\"scatterpolargl\":[{\"type\":\"scatterpolargl\",\"marker\":{\"colorbar\":{\"outlinewidth\":0,\"ticks\":\"\"}}}],\"bar\":[{\"error_x\":{\"color\":\"#2a3f5f\"},\"error_y\":{\"color\":\"#2a3f5f\"},\"marker\":{\"line\":{\"color\":\"#E5ECF6\",\"width\":0.5},\"pattern\":{\"fillmode\":\"overlay\",\"size\":10,\"solidity\":0.2}},\"type\":\"bar\"}],\"scattergeo\":[{\"type\":\"scattergeo\",\"marker\":{\"colorbar\":{\"outlinewidth\":0,\"ticks\":\"\"}}}],\"scatterpolar\":[{\"type\":\"scatterpolar\",\"marker\":{\"colorbar\":{\"outlinewidth\":0,\"ticks\":\"\"}}}],\"histogram\":[{\"marker\":{\"pattern\":{\"fillmode\":\"overlay\",\"size\":10,\"solidity\":0.2}},\"type\":\"histogram\"}],\"scattergl\":[{\"type\":\"scattergl\",\"marker\":{\"colorbar\":{\"outlinewidth\":0,\"ticks\":\"\"}}}],\"scatter3d\":[{\"type\":\"scatter3d\",\"line\":{\"colorbar\":{\"outlinewidth\":0,\"ticks\":\"\"}},\"marker\":{\"colorbar\":{\"outlinewidth\":0,\"ticks\":\"\"}}}],\"scattermapbox\":[{\"type\":\"scattermapbox\",\"marker\":{\"colorbar\":{\"outlinewidth\":0,\"ticks\":\"\"}}}],\"scatterternary\":[{\"type\":\"scatterternary\",\"marker\":{\"colorbar\":{\"outlinewidth\":0,\"ticks\":\"\"}}}],\"scattercarpet\":[{\"type\":\"scattercarpet\",\"marker\":{\"colorbar\":{\"outlinewidth\":0,\"ticks\":\"\"}}}],\"carpet\":[{\"aaxis\":{\"endlinecolor\":\"#2a3f5f\",\"gridcolor\":\"white\",\"linecolor\":\"white\",\"minorgridcolor\":\"white\",\"startlinecolor\":\"#2a3f5f\"},\"baxis\":{\"endlinecolor\":\"#2a3f5f\",\"gridcolor\":\"white\",\"linecolor\":\"white\",\"minorgridcolor\":\"white\",\"startlinecolor\":\"#2a3f5f\"},\"type\":\"carpet\"}],\"table\":[{\"cells\":{\"fill\":{\"color\":\"#EBF0F8\"},\"line\":{\"color\":\"white\"}},\"header\":{\"fill\":{\"color\":\"#C8D4E3\"},\"line\":{\"color\":\"white\"}},\"type\":\"table\"}],\"barpolar\":[{\"marker\":{\"line\":{\"color\":\"#E5ECF6\",\"width\":0.5},\"pattern\":{\"fillmode\":\"overlay\",\"size\":10,\"solidity\":0.2}},\"type\":\"barpolar\"}],\"pie\":[{\"automargin\":true,\"type\":\"pie\"}]},\"layout\":{\"autotypenumbers\":\"strict\",\"colorway\":[\"#636efa\",\"#EF553B\",\"#00cc96\",\"#ab63fa\",\"#FFA15A\",\"#19d3f3\",\"#FF6692\",\"#B6E880\",\"#FF97FF\",\"#FECB52\"],\"font\":{\"color\":\"#2a3f5f\"},\"hovermode\":\"closest\",\"hoverlabel\":{\"align\":\"left\"},\"paper_bgcolor\":\"white\",\"plot_bgcolor\":\"#E5ECF6\",\"polar\":{\"bgcolor\":\"#E5ECF6\",\"angularaxis\":{\"gridcolor\":\"white\",\"linecolor\":\"white\",\"ticks\":\"\"},\"radialaxis\":{\"gridcolor\":\"white\",\"linecolor\":\"white\",\"ticks\":\"\"}},\"ternary\":{\"bgcolor\":\"#E5ECF6\",\"aaxis\":{\"gridcolor\":\"white\",\"linecolor\":\"white\",\"ticks\":\"\"},\"baxis\":{\"gridcolor\":\"white\",\"linecolor\":\"white\",\"ticks\":\"\"},\"caxis\":{\"gridcolor\":\"white\",\"linecolor\":\"white\",\"ticks\":\"\"}},\"coloraxis\":{\"colorbar\":{\"outlinewidth\":0,\"ticks\":\"\"}},\"colorscale\":{\"sequential\":[[0.0,\"#0d0887\"],[0.1111111111111111,\"#46039f\"],[0.2222222222222222,\"#7201a8\"],[0.3333333333333333,\"#9c179e\"],[0.4444444444444444,\"#bd3786\"],[0.5555555555555556,\"#d8576b\"],[0.6666666666666666,\"#ed7953\"],[0.7777777777777778,\"#fb9f3a\"],[0.8888888888888888,\"#fdca26\"],[1.0,\"#f0f921\"]],\"sequentialminus\":[[0.0,\"#0d0887\"],[0.1111111111111111,\"#46039f\"],[0.2222222222222222,\"#7201a8\"],[0.3333333333333333,\"#9c179e\"],[0.4444444444444444,\"#bd3786\"],[0.5555555555555556,\"#d8576b\"],[0.6666666666666666,\"#ed7953\"],[0.7777777777777778,\"#fb9f3a\"],[0.8888888888888888,\"#fdca26\"],[1.0,\"#f0f921\"]],\"diverging\":[[0,\"#8e0152\"],[0.1,\"#c51b7d\"],[0.2,\"#de77ae\"],[0.3,\"#f1b6da\"],[0.4,\"#fde0ef\"],[0.5,\"#f7f7f7\"],[0.6,\"#e6f5d0\"],[0.7,\"#b8e186\"],[0.8,\"#7fbc41\"],[0.9,\"#4d9221\"],[1,\"#276419\"]]},\"xaxis\":{\"gridcolor\":\"white\",\"linecolor\":\"white\",\"ticks\":\"\",\"title\":{\"standoff\":15},\"zerolinecolor\":\"white\",\"automargin\":true,\"zerolinewidth\":2},\"yaxis\":{\"gridcolor\":\"white\",\"linecolor\":\"white\",\"ticks\":\"\",\"title\":{\"standoff\":15},\"zerolinecolor\":\"white\",\"automargin\":true,\"zerolinewidth\":2},\"scene\":{\"xaxis\":{\"backgroundcolor\":\"#E5ECF6\",\"gridcolor\":\"white\",\"linecolor\":\"white\",\"showbackground\":true,\"ticks\":\"\",\"zerolinecolor\":\"white\",\"gridwidth\":2},\"yaxis\":{\"backgroundcolor\":\"#E5ECF6\",\"gridcolor\":\"white\",\"linecolor\":\"white\",\"showbackground\":true,\"ticks\":\"\",\"zerolinecolor\":\"white\",\"gridwidth\":2},\"zaxis\":{\"backgroundcolor\":\"#E5ECF6\",\"gridcolor\":\"white\",\"linecolor\":\"white\",\"showbackground\":true,\"ticks\":\"\",\"zerolinecolor\":\"white\",\"gridwidth\":2}},\"shapedefaults\":{\"line\":{\"color\":\"#2a3f5f\"}},\"annotationdefaults\":{\"arrowcolor\":\"#2a3f5f\",\"arrowhead\":0,\"arrowwidth\":1},\"geo\":{\"bgcolor\":\"white\",\"landcolor\":\"#E5ECF6\",\"subunitcolor\":\"white\",\"showland\":true,\"showlakes\":true,\"lakecolor\":\"white\"},\"title\":{\"x\":0.05},\"mapbox\":{\"style\":\"light\"}}},\"xaxis\":{\"anchor\":\"y\",\"domain\":[0.0,1.0],\"range\":[\"2019-01-01T00:00:00\",\"2022-10-31T00:00:00\"]},\"yaxis\":{\"anchor\":\"x\",\"domain\":[0.0,1.0],\"title\":{\"text\":\"#\"},\"range\":[0,4000]},\"shapes\":[{\"fillcolor\":\"orange\",\"layer\":\"below\",\"opacity\":0.4,\"type\":\"rect\",\"x0\":\"2020-03-01\",\"x1\":\"2020-06-01\",\"xref\":\"x\",\"y0\":\"0\",\"y1\":\"5000\",\"yref\":\"y\",\"line\":{\"width\":0}},{\"fillcolor\":\"orange\",\"layer\":\"below\",\"opacity\":0.4,\"type\":\"rect\",\"x0\":\"2020-11-01\",\"x1\":\"2020-12-15\",\"xref\":\"x\",\"y0\":\"0\",\"y1\":\"5000\",\"yref\":\"y\",\"line\":{\"width\":0}}],\"annotations\":[{\"showarrow\":false,\"text\":\"Covid19<br>Lookdown\",\"x\":\"2020-04-15\",\"y\":3000},{\"showarrow\":false,\"text\":\"Covid19<br>Lookdown\",\"x\":\"2020-11-15\",\"y\":3000}]},                        {\"responsive\": true}                    ).then(function(){\n",
       "                            \n",
       "var gd = document.getElementById('edb29fdd-36c7-49be-bbff-31245191989c');\n",
       "var x = new MutationObserver(function (mutations, observer) {{\n",
       "        var display = window.getComputedStyle(gd).display;\n",
       "        if (!display || display === 'none') {{\n",
       "            console.log([gd, 'removed!']);\n",
       "            Plotly.purge(gd);\n",
       "            observer.disconnect();\n",
       "        }}\n",
       "}});\n",
       "\n",
       "// Listen for the removal of the full notebook cells\n",
       "var notebookContainer = gd.closest('#notebook-container');\n",
       "if (notebookContainer) {{\n",
       "    x.observe(notebookContainer, {childList: true});\n",
       "}}\n",
       "\n",
       "// Listen for the clearing of the current output cell\n",
       "var outputEl = gd.closest('.output');\n",
       "if (outputEl) {{\n",
       "    x.observe(outputEl, {childList: true});\n",
       "}}\n",
       "\n",
       "                        })                };                });            </script>        </div>"
      ]
     },
     "metadata": {},
     "output_type": "display_data"
    },
    {
     "data": {
      "text/html": [
       "<div>                            <div id=\"64bf22b9-78b4-4266-9229-57354a9985b6\" class=\"plotly-graph-div\" style=\"height:525px; width:100%;\"></div>            <script type=\"text/javascript\">                require([\"plotly\"], function(Plotly) {                    window.PLOTLYENV=window.PLOTLYENV || {};                                    if (document.getElementById(\"64bf22b9-78b4-4266-9229-57354a9985b6\")) {                    Plotly.newPlot(                        \"64bf22b9-78b4-4266-9229-57354a9985b6\",                        [{\"name\":\"First inscription rate (%)\",\"x\":[\"2019-01-06T00:00:00\",\"2019-01-20T00:00:00\",\"2019-02-03T00:00:00\",\"2019-02-17T00:00:00\",\"2019-03-03T00:00:00\",\"2019-03-17T00:00:00\",\"2019-03-31T00:00:00\",\"2019-04-14T00:00:00\",\"2019-04-28T00:00:00\",\"2019-05-12T00:00:00\",\"2019-05-26T00:00:00\",\"2019-06-09T00:00:00\",\"2019-06-23T00:00:00\",\"2019-07-07T00:00:00\",\"2019-07-21T00:00:00\",\"2019-08-04T00:00:00\",\"2019-08-18T00:00:00\",\"2019-09-01T00:00:00\",\"2019-09-15T00:00:00\",\"2019-09-29T00:00:00\",\"2019-10-13T00:00:00\",\"2019-10-27T00:00:00\",\"2019-11-10T00:00:00\",\"2019-11-24T00:00:00\",\"2019-12-08T00:00:00\",\"2019-12-22T00:00:00\",\"2020-01-05T00:00:00\",\"2020-01-19T00:00:00\",\"2020-02-02T00:00:00\",\"2020-02-16T00:00:00\",\"2020-03-01T00:00:00\",\"2020-03-15T00:00:00\",\"2020-03-29T00:00:00\",\"2020-04-12T00:00:00\",\"2020-04-26T00:00:00\",\"2020-05-10T00:00:00\",\"2020-05-24T00:00:00\",\"2020-06-07T00:00:00\",\"2020-06-21T00:00:00\",\"2020-07-05T00:00:00\",\"2020-07-19T00:00:00\",\"2020-08-02T00:00:00\",\"2020-08-16T00:00:00\",\"2020-08-30T00:00:00\",\"2020-09-13T00:00:00\",\"2020-09-27T00:00:00\",\"2020-10-11T00:00:00\",\"2020-10-25T00:00:00\",\"2020-11-08T00:00:00\",\"2020-11-22T00:00:00\",\"2020-12-06T00:00:00\",\"2020-12-20T00:00:00\",\"2021-01-03T00:00:00\",\"2021-01-17T00:00:00\",\"2021-01-31T00:00:00\",\"2021-02-14T00:00:00\",\"2021-02-28T00:00:00\",\"2021-03-14T00:00:00\",\"2021-03-28T00:00:00\",\"2021-04-11T00:00:00\",\"2021-04-25T00:00:00\",\"2021-05-09T00:00:00\",\"2021-05-23T00:00:00\",\"2021-06-06T00:00:00\",\"2021-06-20T00:00:00\",\"2021-07-04T00:00:00\",\"2021-07-18T00:00:00\",\"2021-08-01T00:00:00\",\"2021-08-15T00:00:00\",\"2021-08-29T00:00:00\",\"2021-09-12T00:00:00\",\"2021-09-26T00:00:00\",\"2021-10-10T00:00:00\",\"2021-10-24T00:00:00\",\"2021-11-07T00:00:00\"],\"y\":[20.87912087912088,23.322884012539184,29.575402635431917,32.843894899536316,31.392045454545453,35.7805255023184,34.69387755102041,33.731553056921996,35.391304347826086,40.64,41.88280499519693,39.175257731958766,38.99647887323944,38.40947546531303,39.6357328707719,40.7871198568873,35.714285714285715,29.572529782761038,30.144032921810698,33.59442993907746,26.521739130434785,31.41891891891892,29.932803909590717,33.76394597768644,47.85321100917431,36.76470588235294,37.07509881422925,35.27173913043478,40.87261785356068,38.982102908277405,40.61020515518148,32.9646017699115,3.7344398340248963,1.633605600933489,3.6671368124118473,3.310344827586207,12.23684210526316,30.445969125214408,30.964846671652957,32.79132791327913,31.679073614557485,35.029190992493746,25.66560170394036,20.384951881014874,20.207253886010363,18.05157593123209,15.460232350312781,13.372093023255813,6.540284360189573,8.946772366930917,10.86121777290181,11.708482676224612,7.136404697380307,7.5566750629722925,7.076566125290023,10.1194659170766,14.925373134328357,19.03367496339678,26.543209876543212,19.49069539666993,26.853707414829657,31.007137192704203,32.327919566898686,28.934010152284262,29.47805456702254,29.190751445086704,27.84019975031211,34.153158188932366,25.244444444444447,24.792013311148086,27.669902912621357,27.304653204565412,25.923295454545453,25.83941605839416,30.349794238683124],\"type\":\"scatter\"},{\"name\":\"Churn rate (%)\",\"x\":[\"2020-01-06T00:00:00\",\"2020-01-20T00:00:00\",\"2020-02-03T00:00:00\",\"2020-02-17T00:00:00\",\"2020-03-03T00:00:00\",\"2020-03-17T00:00:00\",\"2020-03-31T00:00:00\",\"2020-04-14T00:00:00\",\"2020-04-28T00:00:00\",\"2020-05-12T00:00:00\",\"2020-05-26T00:00:00\",\"2020-06-09T00:00:00\",\"2020-06-23T00:00:00\",\"2020-07-07T00:00:00\",\"2020-07-21T00:00:00\",\"2020-08-04T00:00:00\",\"2020-08-18T00:00:00\",\"2020-09-01T00:00:00\",\"2020-09-15T00:00:00\",\"2020-09-29T00:00:00\",\"2020-10-13T00:00:00\",\"2020-10-27T00:00:00\",\"2020-11-10T00:00:00\",\"2020-11-24T00:00:00\",\"2020-12-08T00:00:00\",\"2020-12-22T00:00:00\",\"2021-01-05T00:00:00\",\"2021-01-19T00:00:00\",\"2021-02-02T00:00:00\",\"2021-02-16T00:00:00\",\"2021-03-01T00:00:00\",\"2021-03-15T00:00:00\",\"2021-03-29T00:00:00\",\"2021-04-12T00:00:00\",\"2021-04-26T00:00:00\",\"2021-05-10T00:00:00\",\"2021-05-24T00:00:00\",\"2021-06-07T00:00:00\",\"2021-06-21T00:00:00\",\"2021-07-05T00:00:00\",\"2021-07-19T00:00:00\",\"2021-08-02T00:00:00\",\"2021-08-16T00:00:00\",\"2021-08-30T00:00:00\",\"2021-09-13T00:00:00\",\"2021-09-27T00:00:00\",\"2021-10-11T00:00:00\",\"2021-10-25T00:00:00\",\"2021-11-08T00:00:00\",\"2021-11-22T00:00:00\",\"2021-12-06T00:00:00\",\"2021-12-20T00:00:00\",\"2022-01-03T00:00:00\",\"2022-01-17T00:00:00\",\"2022-01-31T00:00:00\",\"2022-02-14T00:00:00\",\"2022-02-28T00:00:00\",\"2022-03-14T00:00:00\",\"2022-03-28T00:00:00\",\"2022-04-11T00:00:00\",\"2022-04-25T00:00:00\",\"2022-05-09T00:00:00\",\"2022-05-23T00:00:00\",\"2022-06-06T00:00:00\",\"2022-06-20T00:00:00\",\"2022-07-04T00:00:00\",\"2022-07-18T00:00:00\",\"2022-08-01T00:00:00\",\"2022-08-15T00:00:00\",\"2022-08-29T00:00:00\",\"2022-09-12T00:00:00\",\"2022-09-26T00:00:00\",\"2022-10-10T00:00:00\",\"2022-10-24T00:00:00\",\"2022-11-07T00:00:00\"],\"y\":[31.135531135531135,32.53918495297806,35.871156661786245,31.143740340030913,30.46875,36.16692426584235,43.02040816326531,41.18060435699227,48.78260869565217,44.39999999999999,46.397694524495684,43.58013120899719,37.940140845070424,40.524534686971236,36.513443191673886,40.7871198568873,36.24733475479744,40.99509460406448,36.111111111111114,34.37771975630983,31.739130434782613,38.51351351351351,44.838118509468536,46.7997651203758,49.651376146789,42.54201680672269,37.07509881422924,36.79347826086956,41.67502507522568,37.97539149888143,39.40031562335613,36.43067846607669,28.9073305670816,26.954492415402566,26.65726375176305,24.689655172413794,24.210526315789473,30.960548885077188,30.216903515332838,34.552845528455286,31.59636062861869,33.36113427856547,29.818956336528224,28.083989501312335,30.777202072538856,31.327602674307542,29.0437890974084,25.1937984496124,22.654028436018958,23.782559456398644,31.815688425671972,29.15173237753883,31.255645889792227,22.921914357682617,27.204176334106734,23.541813070976815,25.92592592592593,22.47437774524158,24.794238683127567,21.15572967678746,23.647294589178358,27.4385408406027,26.68213457076566,28.109137055837564,26.21589561091341,29.653179190751445,28.08988764044944,31.91727221911682,27.64444444444445,26.70549084858569,25.809061488673134,28.007023705004386,26.065340909090907,24.52554744525547,29.629629629629626],\"type\":\"scatter\"},{\"name\":\"Return rate (%)\",\"x\":[\"2019-01-06T00:00:00\",\"2019-01-20T00:00:00\",\"2019-02-03T00:00:00\",\"2019-02-17T00:00:00\",\"2019-03-03T00:00:00\",\"2019-03-17T00:00:00\",\"2019-03-31T00:00:00\",\"2019-04-14T00:00:00\",\"2019-04-28T00:00:00\",\"2019-05-12T00:00:00\",\"2019-05-26T00:00:00\",\"2019-06-09T00:00:00\",\"2019-06-23T00:00:00\",\"2019-07-07T00:00:00\",\"2019-07-21T00:00:00\",\"2019-08-04T00:00:00\",\"2019-08-18T00:00:00\",\"2019-09-01T00:00:00\",\"2019-09-15T00:00:00\",\"2019-09-29T00:00:00\",\"2019-10-13T00:00:00\",\"2019-10-27T00:00:00\",\"2019-11-10T00:00:00\",\"2019-11-24T00:00:00\",\"2019-12-08T00:00:00\",\"2019-12-22T00:00:00\",\"2020-01-05T00:00:00\",\"2020-01-19T00:00:00\",\"2020-02-02T00:00:00\",\"2020-02-16T00:00:00\",\"2020-03-01T00:00:00\",\"2020-03-15T00:00:00\",\"2020-03-29T00:00:00\",\"2020-04-12T00:00:00\",\"2020-04-26T00:00:00\",\"2020-05-10T00:00:00\",\"2020-05-24T00:00:00\",\"2020-06-07T00:00:00\",\"2020-06-21T00:00:00\",\"2020-07-05T00:00:00\",\"2020-07-19T00:00:00\",\"2020-08-02T00:00:00\",\"2020-08-16T00:00:00\",\"2020-08-30T00:00:00\",\"2020-09-13T00:00:00\",\"2020-09-27T00:00:00\",\"2020-10-11T00:00:00\",\"2020-10-25T00:00:00\",\"2020-11-08T00:00:00\",\"2020-11-22T00:00:00\",\"2020-12-06T00:00:00\",\"2020-12-20T00:00:00\",\"2021-01-03T00:00:00\",\"2021-01-17T00:00:00\",\"2021-01-31T00:00:00\",\"2021-02-14T00:00:00\",\"2021-02-28T00:00:00\",\"2021-03-14T00:00:00\",\"2021-03-28T00:00:00\",\"2021-04-11T00:00:00\",\"2021-04-25T00:00:00\",\"2021-05-09T00:00:00\",\"2021-05-23T00:00:00\",\"2021-06-06T00:00:00\",\"2021-06-20T00:00:00\",\"2021-07-04T00:00:00\",\"2021-07-18T00:00:00\",\"2021-08-01T00:00:00\",\"2021-08-15T00:00:00\",\"2021-08-29T00:00:00\",\"2021-09-12T00:00:00\",\"2021-09-26T00:00:00\",\"2021-10-10T00:00:00\",\"2021-10-24T00:00:00\",\"2021-11-07T00:00:00\"],\"y\":[0.0,0.0,0.0,0.0,0.0,0.0,0.0,0.0,0.0,0.0,0.0,0.0,0.0,0.0,0.0,0.0,0.0,0.0,0.0,0.0,0.0,0.0,0.0,0.0,0.0,0.0,0.0,0.0,0.0,0.0,0.0,0.0,0.0,0.0,0.0,0.0,0.0,0.0,0.0,0.0,0.0,0.0,0.0,0.0,0.0,0.0,0.0,0.0,0.0,0.0,0.0,0.0,4.9683830171635055,21.03274559193955,22.2737819025522,15.460295151089248,15.533443891652846,16.471449487554903,18.415637860082303,23.212536728697355,20.440881763527056,17.763679619349723,15.85460170146945,15.545685279187818,13.404507710557533,13.179190751445086,13.670411985018728,14.141978759083287,14.666666666666666,15.72379367720466,17.880258899676377,15.803336259877085,15.056818181818182,15.912408759124089,16.46090534979424],\"type\":\"scatter\"}],                        {\"template\":{\"data\":{\"histogram2dcontour\":[{\"type\":\"histogram2dcontour\",\"colorbar\":{\"outlinewidth\":0,\"ticks\":\"\"},\"colorscale\":[[0.0,\"#0d0887\"],[0.1111111111111111,\"#46039f\"],[0.2222222222222222,\"#7201a8\"],[0.3333333333333333,\"#9c179e\"],[0.4444444444444444,\"#bd3786\"],[0.5555555555555556,\"#d8576b\"],[0.6666666666666666,\"#ed7953\"],[0.7777777777777778,\"#fb9f3a\"],[0.8888888888888888,\"#fdca26\"],[1.0,\"#f0f921\"]]}],\"choropleth\":[{\"type\":\"choropleth\",\"colorbar\":{\"outlinewidth\":0,\"ticks\":\"\"}}],\"histogram2d\":[{\"type\":\"histogram2d\",\"colorbar\":{\"outlinewidth\":0,\"ticks\":\"\"},\"colorscale\":[[0.0,\"#0d0887\"],[0.1111111111111111,\"#46039f\"],[0.2222222222222222,\"#7201a8\"],[0.3333333333333333,\"#9c179e\"],[0.4444444444444444,\"#bd3786\"],[0.5555555555555556,\"#d8576b\"],[0.6666666666666666,\"#ed7953\"],[0.7777777777777778,\"#fb9f3a\"],[0.8888888888888888,\"#fdca26\"],[1.0,\"#f0f921\"]]}],\"heatmap\":[{\"type\":\"heatmap\",\"colorbar\":{\"outlinewidth\":0,\"ticks\":\"\"},\"colorscale\":[[0.0,\"#0d0887\"],[0.1111111111111111,\"#46039f\"],[0.2222222222222222,\"#7201a8\"],[0.3333333333333333,\"#9c179e\"],[0.4444444444444444,\"#bd3786\"],[0.5555555555555556,\"#d8576b\"],[0.6666666666666666,\"#ed7953\"],[0.7777777777777778,\"#fb9f3a\"],[0.8888888888888888,\"#fdca26\"],[1.0,\"#f0f921\"]]}],\"heatmapgl\":[{\"type\":\"heatmapgl\",\"colorbar\":{\"outlinewidth\":0,\"ticks\":\"\"},\"colorscale\":[[0.0,\"#0d0887\"],[0.1111111111111111,\"#46039f\"],[0.2222222222222222,\"#7201a8\"],[0.3333333333333333,\"#9c179e\"],[0.4444444444444444,\"#bd3786\"],[0.5555555555555556,\"#d8576b\"],[0.6666666666666666,\"#ed7953\"],[0.7777777777777778,\"#fb9f3a\"],[0.8888888888888888,\"#fdca26\"],[1.0,\"#f0f921\"]]}],\"contourcarpet\":[{\"type\":\"contourcarpet\",\"colorbar\":{\"outlinewidth\":0,\"ticks\":\"\"}}],\"contour\":[{\"type\":\"contour\",\"colorbar\":{\"outlinewidth\":0,\"ticks\":\"\"},\"colorscale\":[[0.0,\"#0d0887\"],[0.1111111111111111,\"#46039f\"],[0.2222222222222222,\"#7201a8\"],[0.3333333333333333,\"#9c179e\"],[0.4444444444444444,\"#bd3786\"],[0.5555555555555556,\"#d8576b\"],[0.6666666666666666,\"#ed7953\"],[0.7777777777777778,\"#fb9f3a\"],[0.8888888888888888,\"#fdca26\"],[1.0,\"#f0f921\"]]}],\"surface\":[{\"type\":\"surface\",\"colorbar\":{\"outlinewidth\":0,\"ticks\":\"\"},\"colorscale\":[[0.0,\"#0d0887\"],[0.1111111111111111,\"#46039f\"],[0.2222222222222222,\"#7201a8\"],[0.3333333333333333,\"#9c179e\"],[0.4444444444444444,\"#bd3786\"],[0.5555555555555556,\"#d8576b\"],[0.6666666666666666,\"#ed7953\"],[0.7777777777777778,\"#fb9f3a\"],[0.8888888888888888,\"#fdca26\"],[1.0,\"#f0f921\"]]}],\"mesh3d\":[{\"type\":\"mesh3d\",\"colorbar\":{\"outlinewidth\":0,\"ticks\":\"\"}}],\"scatter\":[{\"fillpattern\":{\"fillmode\":\"overlay\",\"size\":10,\"solidity\":0.2},\"type\":\"scatter\"}],\"parcoords\":[{\"type\":\"parcoords\",\"line\":{\"colorbar\":{\"outlinewidth\":0,\"ticks\":\"\"}}}],\"scatterpolargl\":[{\"type\":\"scatterpolargl\",\"marker\":{\"colorbar\":{\"outlinewidth\":0,\"ticks\":\"\"}}}],\"bar\":[{\"error_x\":{\"color\":\"#2a3f5f\"},\"error_y\":{\"color\":\"#2a3f5f\"},\"marker\":{\"line\":{\"color\":\"#E5ECF6\",\"width\":0.5},\"pattern\":{\"fillmode\":\"overlay\",\"size\":10,\"solidity\":0.2}},\"type\":\"bar\"}],\"scattergeo\":[{\"type\":\"scattergeo\",\"marker\":{\"colorbar\":{\"outlinewidth\":0,\"ticks\":\"\"}}}],\"scatterpolar\":[{\"type\":\"scatterpolar\",\"marker\":{\"colorbar\":{\"outlinewidth\":0,\"ticks\":\"\"}}}],\"histogram\":[{\"marker\":{\"pattern\":{\"fillmode\":\"overlay\",\"size\":10,\"solidity\":0.2}},\"type\":\"histogram\"}],\"scattergl\":[{\"type\":\"scattergl\",\"marker\":{\"colorbar\":{\"outlinewidth\":0,\"ticks\":\"\"}}}],\"scatter3d\":[{\"type\":\"scatter3d\",\"line\":{\"colorbar\":{\"outlinewidth\":0,\"ticks\":\"\"}},\"marker\":{\"colorbar\":{\"outlinewidth\":0,\"ticks\":\"\"}}}],\"scattermapbox\":[{\"type\":\"scattermapbox\",\"marker\":{\"colorbar\":{\"outlinewidth\":0,\"ticks\":\"\"}}}],\"scatterternary\":[{\"type\":\"scatterternary\",\"marker\":{\"colorbar\":{\"outlinewidth\":0,\"ticks\":\"\"}}}],\"scattercarpet\":[{\"type\":\"scattercarpet\",\"marker\":{\"colorbar\":{\"outlinewidth\":0,\"ticks\":\"\"}}}],\"carpet\":[{\"aaxis\":{\"endlinecolor\":\"#2a3f5f\",\"gridcolor\":\"white\",\"linecolor\":\"white\",\"minorgridcolor\":\"white\",\"startlinecolor\":\"#2a3f5f\"},\"baxis\":{\"endlinecolor\":\"#2a3f5f\",\"gridcolor\":\"white\",\"linecolor\":\"white\",\"minorgridcolor\":\"white\",\"startlinecolor\":\"#2a3f5f\"},\"type\":\"carpet\"}],\"table\":[{\"cells\":{\"fill\":{\"color\":\"#EBF0F8\"},\"line\":{\"color\":\"white\"}},\"header\":{\"fill\":{\"color\":\"#C8D4E3\"},\"line\":{\"color\":\"white\"}},\"type\":\"table\"}],\"barpolar\":[{\"marker\":{\"line\":{\"color\":\"#E5ECF6\",\"width\":0.5},\"pattern\":{\"fillmode\":\"overlay\",\"size\":10,\"solidity\":0.2}},\"type\":\"barpolar\"}],\"pie\":[{\"automargin\":true,\"type\":\"pie\"}]},\"layout\":{\"autotypenumbers\":\"strict\",\"colorway\":[\"#636efa\",\"#EF553B\",\"#00cc96\",\"#ab63fa\",\"#FFA15A\",\"#19d3f3\",\"#FF6692\",\"#B6E880\",\"#FF97FF\",\"#FECB52\"],\"font\":{\"color\":\"#2a3f5f\"},\"hovermode\":\"closest\",\"hoverlabel\":{\"align\":\"left\"},\"paper_bgcolor\":\"white\",\"plot_bgcolor\":\"#E5ECF6\",\"polar\":{\"bgcolor\":\"#E5ECF6\",\"angularaxis\":{\"gridcolor\":\"white\",\"linecolor\":\"white\",\"ticks\":\"\"},\"radialaxis\":{\"gridcolor\":\"white\",\"linecolor\":\"white\",\"ticks\":\"\"}},\"ternary\":{\"bgcolor\":\"#E5ECF6\",\"aaxis\":{\"gridcolor\":\"white\",\"linecolor\":\"white\",\"ticks\":\"\"},\"baxis\":{\"gridcolor\":\"white\",\"linecolor\":\"white\",\"ticks\":\"\"},\"caxis\":{\"gridcolor\":\"white\",\"linecolor\":\"white\",\"ticks\":\"\"}},\"coloraxis\":{\"colorbar\":{\"outlinewidth\":0,\"ticks\":\"\"}},\"colorscale\":{\"sequential\":[[0.0,\"#0d0887\"],[0.1111111111111111,\"#46039f\"],[0.2222222222222222,\"#7201a8\"],[0.3333333333333333,\"#9c179e\"],[0.4444444444444444,\"#bd3786\"],[0.5555555555555556,\"#d8576b\"],[0.6666666666666666,\"#ed7953\"],[0.7777777777777778,\"#fb9f3a\"],[0.8888888888888888,\"#fdca26\"],[1.0,\"#f0f921\"]],\"sequentialminus\":[[0.0,\"#0d0887\"],[0.1111111111111111,\"#46039f\"],[0.2222222222222222,\"#7201a8\"],[0.3333333333333333,\"#9c179e\"],[0.4444444444444444,\"#bd3786\"],[0.5555555555555556,\"#d8576b\"],[0.6666666666666666,\"#ed7953\"],[0.7777777777777778,\"#fb9f3a\"],[0.8888888888888888,\"#fdca26\"],[1.0,\"#f0f921\"]],\"diverging\":[[0,\"#8e0152\"],[0.1,\"#c51b7d\"],[0.2,\"#de77ae\"],[0.3,\"#f1b6da\"],[0.4,\"#fde0ef\"],[0.5,\"#f7f7f7\"],[0.6,\"#e6f5d0\"],[0.7,\"#b8e186\"],[0.8,\"#7fbc41\"],[0.9,\"#4d9221\"],[1,\"#276419\"]]},\"xaxis\":{\"gridcolor\":\"white\",\"linecolor\":\"white\",\"ticks\":\"\",\"title\":{\"standoff\":15},\"zerolinecolor\":\"white\",\"automargin\":true,\"zerolinewidth\":2},\"yaxis\":{\"gridcolor\":\"white\",\"linecolor\":\"white\",\"ticks\":\"\",\"title\":{\"standoff\":15},\"zerolinecolor\":\"white\",\"automargin\":true,\"zerolinewidth\":2},\"scene\":{\"xaxis\":{\"backgroundcolor\":\"#E5ECF6\",\"gridcolor\":\"white\",\"linecolor\":\"white\",\"showbackground\":true,\"ticks\":\"\",\"zerolinecolor\":\"white\",\"gridwidth\":2},\"yaxis\":{\"backgroundcolor\":\"#E5ECF6\",\"gridcolor\":\"white\",\"linecolor\":\"white\",\"showbackground\":true,\"ticks\":\"\",\"zerolinecolor\":\"white\",\"gridwidth\":2},\"zaxis\":{\"backgroundcolor\":\"#E5ECF6\",\"gridcolor\":\"white\",\"linecolor\":\"white\",\"showbackground\":true,\"ticks\":\"\",\"zerolinecolor\":\"white\",\"gridwidth\":2}},\"shapedefaults\":{\"line\":{\"color\":\"#2a3f5f\"}},\"annotationdefaults\":{\"arrowcolor\":\"#2a3f5f\",\"arrowhead\":0,\"arrowwidth\":1},\"geo\":{\"bgcolor\":\"white\",\"landcolor\":\"#E5ECF6\",\"subunitcolor\":\"white\",\"showland\":true,\"showlakes\":true,\"lakecolor\":\"white\"},\"title\":{\"x\":0.05},\"mapbox\":{\"style\":\"light\"}}},\"xaxis\":{\"anchor\":\"y\",\"domain\":[0.0,1.0],\"range\":[\"2019-01-01T00:00:00\",\"2022-10-31T00:00:00\"]},\"yaxis\":{\"anchor\":\"x\",\"domain\":[0.0,1.0],\"range\":[0,100]},\"shapes\":[{\"fillcolor\":\"orange\",\"layer\":\"below\",\"opacity\":0.4,\"type\":\"rect\",\"x0\":\"2020-03-01\",\"x1\":\"2020-06-01\",\"xref\":\"x\",\"y0\":\"0\",\"y1\":\"5000\",\"yref\":\"y\",\"line\":{\"width\":0}},{\"fillcolor\":\"orange\",\"layer\":\"below\",\"opacity\":0.4,\"type\":\"rect\",\"x0\":\"2020-11-01\",\"x1\":\"2020-12-15\",\"xref\":\"x\",\"y0\":\"0\",\"y1\":\"5000\",\"yref\":\"y\",\"line\":{\"width\":0}}],\"annotations\":[{\"showarrow\":false,\"text\":\"Covid19<br>Lookdown\",\"x\":\"2020-04-15\",\"y\":60},{\"showarrow\":false,\"text\":\"Covid19<br>Lookdown\",\"x\":\"2020-11-15\",\"y\":60}],\"legend\":{\"yanchor\":\"top\",\"y\":0.99,\"xanchor\":\"left\",\"x\":0.01}},                        {\"responsive\": true}                    ).then(function(){\n",
       "                            \n",
       "var gd = document.getElementById('64bf22b9-78b4-4266-9229-57354a9985b6');\n",
       "var x = new MutationObserver(function (mutations, observer) {{\n",
       "        var display = window.getComputedStyle(gd).display;\n",
       "        if (!display || display === 'none') {{\n",
       "            console.log([gd, 'removed!']);\n",
       "            Plotly.purge(gd);\n",
       "            observer.disconnect();\n",
       "        }}\n",
       "}});\n",
       "\n",
       "// Listen for the removal of the full notebook cells\n",
       "var notebookContainer = gd.closest('#notebook-container');\n",
       "if (notebookContainer) {{\n",
       "    x.observe(notebookContainer, {childList: true});\n",
       "}}\n",
       "\n",
       "// Listen for the clearing of the current output cell\n",
       "var outputEl = gd.closest('.output');\n",
       "if (outputEl) {{\n",
       "    x.observe(outputEl, {childList: true});\n",
       "}}\n",
       "\n",
       "                        })                };                });            </script>        </div>"
      ]
     },
     "metadata": {},
     "output_type": "display_data"
    }
   ],
   "source": [
    "# Create figure with secondary y-axis\n",
    "fig = make_subplots()#specs=[[{\"secondary_y\": True}]])\n",
    "fig2 = make_subplots()#specs=[[{\"secondary_y\": True}]])\n",
    "\n",
    "# Add traces\n",
    "fig.add_trace(\n",
    "    go.Scatter(x=df_monthly.index, y=df_monthly.subscription_count, \n",
    "               name=\"Subscription Count\",\n",
    "               line = dict(color='firebrick', width=3, dash='dot')),\n",
    "    secondary_y=False,\n",
    ")\n",
    "\n",
    "\n",
    "fig2.add_trace(\n",
    "    go.Scatter(x=df_monthly.index,\n",
    "               y=(df_monthly.first_subscription)*100, name=\"First inscription rate (%)\"))\n",
    "\n",
    "\n",
    "fig2.add_trace(\n",
    "    go.Scatter(x=df_monthly.index+pd.offsets.DateOffset(years=1),\n",
    "               y=(1-df_monthly.churn_percentage)*100 , name=\"Churn rate (%)\"),)\n",
    "\n",
    "fig2.add_trace(\n",
    "    go.Scatter(x=df_monthly.index,\n",
    "               y=(df_monthly.return_percentage)*100 , name=\"Return rate (%)\"),)\n",
    "\n",
    "\n",
    "\n",
    "# Set y-axes titles\n",
    "fig.update_yaxes(title_text=\"#\", secondary_y=False)\n",
    "fig.update_yaxes(range=[0,4000], secondary_y=False)\n",
    "fig2.update_yaxes(range=[0,100], secondary_y=False)\n",
    "fig.update_xaxes(range=[min(df_subs.index),max(df_subs.index)+pd.offsets.DateOffset(years=1)])\n",
    "fig2.update_xaxes(range=[min(df_subs.index),max(df_subs.index)+pd.offsets.DateOffset(years=1)])\n",
    "\n",
    "# specify the corners of the rectangles\n",
    "covid_range = [dict(type=\"rect\", xref=\"x\", yref=\"y\",\n",
    "         x0=\"2020-03-01\",y0=\"0\",x1=\"2020-06-01\",y1=\"5000\",\n",
    "         fillcolor=\"orange\",opacity=0.4,line_width=0,layer=\"below\"),\n",
    "               dict(type=\"rect\", xref=\"x\", yref=\"y\",\n",
    "         x0=\"2020-11-01\",y0=\"0\",x1=\"2020-12-15\",y1=\"5000\",\n",
    "         fillcolor=\"orange\",opacity=0.4,line_width=0,layer=\"below\") ]\n",
    "\n",
    "covid_label = f\"<br>\".join([f\"Covid19\",f\"Lookdown\"])\n",
    "\n",
    "fig.update_layout(shapes=covid_range)\n",
    "fig2.update_layout(shapes=covid_range)\n",
    "\n",
    "fig.add_annotation(x=\"2020-04-15\", y=3000,  showarrow=False,\n",
    "                        text=covid_label )\n",
    "fig.add_annotation(x=\"2020-11-15\", y=3000,  showarrow=False,\n",
    "                        text=covid_label)\n",
    "\n",
    "\n",
    "fig2.add_annotation(x=\"2020-04-15\", y=60,  showarrow=False,\n",
    "                        text=covid_label )\n",
    "fig2.add_annotation(x=\"2020-11-15\", y=60,  showarrow=False,\n",
    "                        text=covid_label)\n",
    "\n",
    "fig.show()\n",
    "fig2.update_layout(legend=dict( yanchor=\"top\", y=0.99,xanchor=\"left\",x=0.01))\n",
    "fig2.show()\n",
    "\n"
   ]
  },
  {
   "cell_type": "markdown",
   "id": "4a140183",
   "metadata": {},
   "source": [
    "Covid did impact the churn rate. \n",
    "Verify that Covid does impact Churn rate with Hypothesis testing "
   ]
  },
  {
   "cell_type": "code",
   "execution_count": null,
   "id": "fc49c271",
   "metadata": {},
   "outputs": [],
   "source": [
    "df_subs['covid_renew'] = np.where(df_subs.index +pd.offsets.DateOffset(years=1)>=pd.to_datetime('2021-04-15'), '1_post-covid','0_covid')\n",
    "tab = pd.crosstab(df_subs.covid_renew,df_subs.renew)\n",
    "tab"
   ]
  },
  {
   "cell_type": "code",
   "execution_count": null,
   "id": "fe98b9a0",
   "metadata": {},
   "outputs": [],
   "source": [
    "import scipy.stats as stats\n",
    "\n",
    "# CONDUCT FISHER_EXACT STATISTICAL TEST\n",
    "odds_ratio, p_value = stats.fisher_exact(tab)\n",
    "# PRINT OUT RESULTS\n",
    "if p_value < 0.05:\n",
    "    print(f'p_value: {p_value}\\nResult: There is a significant difference')\n",
    "else:\n",
    "    print(f'p_value: {p_value}\\nResult: No significant difference')"
   ]
  },
  {
   "cell_type": "code",
   "execution_count": null,
   "id": "fda52952",
   "metadata": {},
   "outputs": [],
   "source": [
    "# chi2 \n",
    "chiRes = stats.chi2_contingency(tab)\n",
    "p_value = chiRes[1]\n",
    "if p_value < 0.05:\n",
    "    print(f'p_value: {p_value}\\nResult: There is a significant difference')\n",
    "else:\n",
    "    print(f'p_value: {p_value}\\nResult: No significant difference')"
   ]
  },
  {
   "cell_type": "markdown",
   "id": "caddf035",
   "metadata": {},
   "source": [
    "COVID had a impact on churn rate and churner from covid period is not quit reprensentative, even if a small proportion on them get back after. \n",
    "\n",
    "It is difficult to make the study only on post covid subscripion (low data) \n",
    "\n",
    "\n",
    "REMOVE ONLY USER WITH FIRST INSCRIPTION DURING COVID ? => dans table user ? le mentionner ?? quelle date ? \n",
    "\n",
    "\n"
   ]
  },
  {
   "cell_type": "code",
   "execution_count": null,
   "id": "b6d56467",
   "metadata": {},
   "outputs": [],
   "source": [
    "df_subs['covid_subs'] = np.where(df_subs.index >=pd.to_datetime('2021-04-15'), '1_post-covid','0_covid')"
   ]
  },
  {
   "cell_type": "code",
   "execution_count": null,
   "id": "01f37433",
   "metadata": {},
   "outputs": [],
   "source": [
    "df_subs[df_subs.user_id==1749]"
   ]
  },
  {
   "cell_type": "code",
   "execution_count": null,
   "id": "7c751927",
   "metadata": {},
   "outputs": [],
   "source": [
    "len(df_subs[df_subs.covid_subs=='1_post-covid'])/len(df_subs)*100"
   ]
  },
  {
   "cell_type": "code",
   "execution_count": null,
   "id": "075adbb3",
   "metadata": {},
   "outputs": [],
   "source": [
    "len(df_subs[df_subs.covid_renew=='1_post-covid'])"
   ]
  },
  {
   "cell_type": "code",
   "execution_count": null,
   "id": "eebeff17",
   "metadata": {},
   "outputs": [],
   "source": [
    "df_subs_post_covid = df_subs[df_subs.covid_renew=='1_post-covid']\n",
    "df_subs_pre_covid = df_subs[df_subs.covid_renew!='1_post-covid']\n",
    "fig = px.bar(barmode='group')\n",
    "\n",
    "fig.add_bar(x=['all time', 'Covid','Post-covid'],y=[1-df_subs.renew.mean(),\n",
    "                                                       1-df_subs_pre_covid.renew.mean(),\n",
    "                                                       1-df_subs_post_covid.renew.mean()])"
   ]
  },
  {
   "cell_type": "code",
   "execution_count": null,
   "id": "59f58d69",
   "metadata": {},
   "outputs": [],
   "source": [
    "covid not representative car covid = analyse apres que post covid ? chaud pour le mean ?? "
   ]
  },
  {
   "cell_type": "markdown",
   "id": "da3c7eb3",
   "metadata": {},
   "source": [
    "## Churn rate as a function of user caracteristics \n",
    "\n",
    "### Number of inscriptions \n"
   ]
  },
  {
   "cell_type": "code",
   "execution_count": null,
   "id": "6b9e574d",
   "metadata": {},
   "outputs": [],
   "source": [
    "fig = px.bar(barmode='group')\n",
    "fig.add_bar(x=df_subs.groupby('first_subscription').agg({'user_id': 'count', 'renew':churn_rate_agg}).reset_index().first_subscription,\n",
    "       y=df_subs.groupby('first_subscription').agg({'user_id': 'count', \n",
    "                                                    'renew':churn_rate_agg}).reset_index().renew,name='total')\n",
    "fig.add_bar(x=df_subs_post_covid.groupby('first_subscription').agg({'user_id':  'count', 'renew':churn_rate_agg}).reset_index().first_subscription,\n",
    "             y=df_subs_post_covid.groupby('first_subscription').agg({'user_id':  'count', 'renew':churn_rate_agg}).reset_index().renew,\n",
    "           name='post-covid')\n",
    "fig.add_bar(x=df_subs_pre_covid.groupby('first_subscription').agg({'user_id':  'count', 'renew':churn_rate_agg}).reset_index().first_subscription,\n",
    "             y=df_subs_pre_covid.groupby('first_subscription').agg({'user_id':  'count', 'renew':churn_rate_agg}).reset_index().renew,\n",
    "           name='Covid')\n",
    "            "
   ]
  },
  {
   "cell_type": "markdown",
   "id": "dd918e0e",
   "metadata": {},
   "source": [
    "### Use of promotion\n"
   ]
  },
  {
   "cell_type": "code",
   "execution_count": null,
   "id": "18c241be",
   "metadata": {},
   "outputs": [],
   "source": [
    "\n",
    "test= df_subs.groupby('user_id').agg({'pk':'count', 'renew':churn_rate_agg})\n",
    "fig = px.bar(barmode='group')\n",
    "\n",
    "fig.add_bar(x=test.groupby('pk').agg({'renew':'mean'}).reset_index().pk\n",
    "            ,y=test.groupby('pk').agg({'renew':'mean'}).reset_index().renew,name='total')\n",
    "\n",
    "            "
   ]
  },
  {
   "cell_type": "markdown",
   "id": "d6fe1f33",
   "metadata": {},
   "source": [
    "### First inscription or not "
   ]
  },
  {
   "cell_type": "code",
   "execution_count": null,
   "id": "8a150831",
   "metadata": {},
   "outputs": [],
   "source": [
    "# note: different impact if the promotion was taken at the first subscription or not\n",
    "test= df_subs[df_subs.first_subscription==0]#.groupby('user_id').agg({'pk':'count',\n",
    "                                                #                     'renew':churn_rate_agg, 'promotion':'max'})\n",
    "fig = px.bar(barmode='group')\n",
    "\n",
    "fig.add_bar(x=test.groupby('promotion').agg({'renew':churn_rate_agg}).reset_index().promotion\n",
    "            ,y=test.groupby('promotion').agg({'renew':churn_rate_agg}).reset_index().renew,\n",
    "            name='not first subscription')\n",
    "\n",
    "\n",
    "# note: different impact if the promotion was taken at the first subscription or not\n",
    "test= df_subs[df_subs.first_subscription==1]#groupby('user_id').agg({'pk':'count', \n",
    "                                                                    # 'renew':churn_rate_agg, 'promotion':'max'})\n",
    "\n",
    "fig.add_bar(x=test.groupby('promotion').agg({'renew':churn_rate_agg}).reset_index().promotion\n",
    "            ,y=test.groupby('promotion').agg({'renew':churn_rate_agg}).reset_index().renew,name='first subscription')\n",
    "\n",
    "            "
   ]
  },
  {
   "cell_type": "markdown",
   "id": "fe148456",
   "metadata": {},
   "source": [
    "### Referral"
   ]
  },
  {
   "cell_type": "code",
   "execution_count": null,
   "id": "9c5797a3",
   "metadata": {},
   "outputs": [],
   "source": [
    "\n",
    "test= df_subs.groupby('user_id').agg({'pk':'count', 'renew':churn_rate_agg, 'referral':'max'})\n",
    "fig = px.bar(barmode='group')\n",
    "\n",
    "fig.add_bar(x=test.groupby('referral').agg({'renew':'mean'}).reset_index().referral\n",
    "            ,y=test.groupby('referral').agg({'renew':'mean'}).reset_index().renew,name='total')\n",
    "\n",
    "            "
   ]
  },
  {
   "cell_type": "markdown",
   "id": "41d161c3",
   "metadata": {},
   "source": [
    "# Exchange Table\n",
    "\n",
    "\n",
    "SOME PLOT ABOUT EXCHANGE (NOT KNOWING IF USER STAY OR NOT)"
   ]
  },
  {
   "cell_type": "code",
   "execution_count": null,
   "id": "c5f3f572",
   "metadata": {},
   "outputs": [],
   "source": []
  },
  {
   "cell_type": "code",
   "execution_count": null,
   "id": "6250c192",
   "metadata": {},
   "outputs": [],
   "source": []
  },
  {
   "cell_type": "code",
   "execution_count": null,
   "id": "f126fbd2",
   "metadata": {},
   "outputs": [],
   "source": []
  },
  {
   "cell_type": "code",
   "execution_count": null,
   "id": "66f23118",
   "metadata": {},
   "outputs": [],
   "source": []
  },
  {
   "cell_type": "code",
   "execution_count": null,
   "id": "d98fef6e",
   "metadata": {},
   "outputs": [],
   "source": []
  },
  {
   "cell_type": "code",
   "execution_count": null,
   "id": "92d73edf",
   "metadata": {},
   "outputs": [],
   "source": []
  },
  {
   "cell_type": "code",
   "execution_count": null,
   "id": "31de3df9",
   "metadata": {},
   "outputs": [],
   "source": [
    "df_exc_monthly"
   ]
  },
  {
   "cell_type": "code",
   "execution_count": null,
   "id": "6b88490a",
   "metadata": {},
   "outputs": [],
   "source": [
    "# Create figure with secondary y-axis\n",
    "fig = make_subplots(specs=[[{\"secondary_y\": True}]])\n",
    "\n",
    "# Add traces\n",
    "fig.add_trace(\n",
    "    go.Scatter(x=df_exc_monthly.index, y=df_exc_monthly.exchange_id_count, \n",
    "               name=\"Exchange resquest Count\",\n",
    "               line = dict(color='firebrick', width=3, dash='dot')),\n",
    "    secondary_y=False,\n",
    ")\n",
    "\n",
    "\n",
    "# Add traces\n",
    "fig.add_trace(\n",
    "    go.Scatter(x=df_exc_monthly.set_index('finalized_at_first').sort_index().index, \n",
    "               y=df_exc_monthly.set_index('finalized_at_first').sort_index().finalized_at_count, \n",
    "               name=\"Exchange Finalized count\", ),\n",
    "    secondary_y=True,\n",
    ")\n",
    "\n",
    "# Add traces\n",
    "fig.add_trace(\n",
    "    go.Scatter(x=df_exc_monthly.set_index('canceled_at_first').sort_index().index, \n",
    "               y=df_exc_monthly.set_index('canceled_at_first').sort_index().canceled_at_count, \n",
    "               name=\"Exchange Cancel count\", \n",
    "             ),\n",
    "    secondary_y=True,\n",
    ")\n",
    "\n",
    "\n",
    "\n",
    "\n",
    "# Set y-axes titles\n",
    "fig.update_yaxes(title_text=\"#\", secondary_y=False)\n",
    "fig.update_xaxes(range=[min(df_exc_monthly.index),max(df_exc_monthly.index)])\n",
    "\n",
    "# specify the corners of the rectangles\n",
    "covid_range = [dict(type=\"rect\", xref=\"x\", yref=\"y\",\n",
    "         x0=\"2020-03-01\",y0=\"0\",x1=\"2020-06-01\",y1=\"700000\",\n",
    "         fillcolor=\"orange\",opacity=0.4,line_width=0,layer=\"below\"),\n",
    "               dict(type=\"rect\", xref=\"x\", yref=\"y\",\n",
    "         x0=\"2020-11-01\",y0=\"0\",x1=\"2020-12-15\",y1=\"700000\",\n",
    "         fillcolor=\"orange\",opacity=0.4,line_width=0,layer=\"below\") ]\n",
    "\n",
    "covid_label = f\"<br>\".join([f\"Covid19\",f\"Lookdown\"])\n",
    "\n",
    "fig.update_layout(shapes=covid_range)\n",
    "\n",
    "fig.add_annotation(x=\"2020-04-15\", y=600000,  showarrow=False,\n",
    "                        text=covid_label )\n",
    "fig.add_annotation(x=\"2020-11-15\", y=600000,  showarrow=False,\n",
    "                        text=covid_label)\n",
    "\n",
    "fig.show()\n"
   ]
  },
  {
   "cell_type": "markdown",
   "id": "a1118116",
   "metadata": {},
   "source": [
    "Plus d'échange finaliser après le covid !  mais pas forcement plus d'inscrit, utilisateur utile plus après le covid ? "
   ]
  },
  {
   "cell_type": "markdown",
   "id": "13df7ffb",
   "metadata": {},
   "source": [
    "# Join as Users Table\n",
    "\n",
    "SMALL STUDY ON WHY USER DO NOT SUBCRIBED\n",
    "\n",
    "\n",
    "PUIS STUDY ON WHY USER THAT SUBSCRIBED LEAVE"
   ]
  },
  {
   "cell_type": "markdown",
   "id": "bd2d8a42",
   "metadata": {},
   "source": [
    "/!\\ FAIRE MEAN CHURN RATE WITH WEIGHTED "
   ]
  },
  {
   "cell_type": "code",
   "execution_count": null,
   "id": "d9aabb0e",
   "metadata": {},
   "outputs": [],
   "source": []
  },
  {
   "cell_type": "code",
   "execution_count": null,
   "id": "b64cb6d6",
   "metadata": {
    "scrolled": false
   },
   "outputs": [],
   "source": [
    "\n",
    "pie_df = pd.DataFrame(dict({'status':['Never Subscribe','Subscribe at least once'],\n",
    "                            'value':[len(df_non_subscriber),len(df_subscriber)]}))\n",
    "\n",
    "px.pie(data_frame=pie_df,values='value', names='status',color_discrete_sequence=px.colors.sequential.Magma_r, \n",
    "      )"
   ]
  },
  {
   "cell_type": "code",
   "execution_count": null,
   "id": "8c4b2740",
   "metadata": {},
   "outputs": [],
   "source": [
    "\n",
    "pie_df = pd.DataFrame(dict({'status':['Never Exchange','Exchange least once'],\n",
    "                            'value':[len(df_non_subscriber[((df_non_subscriber.nb_of_exchange_as_host_done)+\n",
    "                                                           (df_non_subscriber.nb_of_exchange_as_guest_done)+\n",
    "                                                           (df_non_subscriber.nb_of_exchange_as_exchange_done))==0]),\n",
    "                                     len(df_non_subscriber[((df_non_subscriber.nb_of_exchange_as_host_done)+\n",
    "                                                           (df_non_subscriber.nb_of_exchange_as_guest_done)+\n",
    "                                                           (df_non_subscriber.nb_of_exchange_as_exchange_done))>0])\n",
    "                                    ]}))\n",
    "\n",
    "px.pie(data_frame=pie_df,values='value', names='status',color_discrete_sequence=px.colors.sequential.Magma_r, )"
   ]
  },
  {
   "cell_type": "code",
   "execution_count": null,
   "id": "62bcc52f",
   "metadata": {},
   "outputs": [],
   "source": []
  },
  {
   "cell_type": "code",
   "execution_count": null,
   "id": "904182d8",
   "metadata": {},
   "outputs": [],
   "source": [
    "df_here = df_non_subscriber_noexchange_atALL[['user_id','country','nb_of_conversation_as_host',\n",
    "                                              'nb_of_conversation_as_guest','nb_of_conversation_for_exchange']].reset_index()\n",
    "df_here['conv_tot']=df_here['nb_of_conversation_as_host']+df_here['nb_of_conversation_as_guest']+df_here['nb_of_conversation_for_exchange']\n",
    "df_here=df_here[['user_id','country','conv_tot']]"
   ]
  },
  {
   "cell_type": "code",
   "execution_count": null,
   "id": "5cdec39c",
   "metadata": {},
   "outputs": [],
   "source": [
    "df_here.describe()"
   ]
  },
  {
   "cell_type": "markdown",
   "id": "0f1329dd",
   "metadata": {},
   "source": [
    "Le 75% percentile du nombre total de conversation engagé est 21\n",
    "Cela signifie que 75% des utilisateurs qui n'ont pas souscrit et qui ne sont jamais partie (ou louer leur maison) ont tenter au moins 21 conversations au total\n",
    "\n"
   ]
  },
  {
   "cell_type": "code",
   "execution_count": null,
   "id": "7e97ef14",
   "metadata": {},
   "outputs": [],
   "source": [
    "fig = px.histogram(data_frame=df_here,y='user_id',x='conv_tot', log_y=True)\n",
    "fig.show()"
   ]
  },
  {
   "cell_type": "code",
   "execution_count": null,
   "id": "dff19027",
   "metadata": {},
   "outputs": [],
   "source": [
    "test = df_here.groupby('country').agg({'user_id':'count', 'conv_tot':'mean'}).reset_index()\n",
    "total_user = np.sum(test.user_id)\n",
    "print(total_user)\n",
    "fig = px.bar(barmode='group')\n",
    "\n",
    "fig.add_bar(x=test.country,y=test.user_id/total_user*100)\n",
    "fig.show()\n",
    "\n",
    "\n",
    "fig = px.bar(barmode='group')\n",
    "\n",
    "fig.add_bar(x=test[(test.country=='FRA')|(test.country=='USA')].country,\n",
    "            y=test[(test.country=='FRA')|(test.country=='USA')].user_id/total_user*100, name='% of users')\n",
    "fig.add_bar(x=test[(test.country=='FRA')|(test.country=='USA')].country,\n",
    "            y=test[(test.country=='FRA')|(test.country=='USA')].conv_tot, name='Mean nb of conversation')\n",
    "fig.show()\n",
    "\n"
   ]
  },
  {
   "cell_type": "markdown",
   "id": "af0c38ad",
   "metadata": {},
   "source": [
    "2 fois plus de France qui ne souscrit pas que d'americain (en proportion du nb total d'utilisateur qui ne souscrit pas) "
   ]
  },
  {
   "cell_type": "markdown",
   "id": "37df9331",
   "metadata": {},
   "source": [
    "\n",
    "=> RECOMMENDATION ?\n",
    "- pour les inscrits qui ont tenter des conversations mais qui n'y arrive pas, envoyer un mail d'aide pour trouver des maisons \n",
    "- pour les Français, mettre en place un système qui pousse à l'inscription : \n",
    "    - avoir des maisons \"caché\" si pas de soucsription ? (attention au risque de non adhésions)\n",
    "    - ajouter des features premium pour les inscrits ? \n",
    "    \n",
    "\n"
   ]
  },
  {
   "cell_type": "code",
   "execution_count": null,
   "id": "45fe09c6",
   "metadata": {},
   "outputs": [],
   "source": [
    "df_users[df_users.user_id==758307] #=> il doit avoir une sacré maison"
   ]
  },
  {
   "cell_type": "code",
   "execution_count": null,
   "id": "8d56796a",
   "metadata": {},
   "outputs": [],
   "source": [
    "# subscriber user that leave"
   ]
  },
  {
   "cell_type": "code",
   "execution_count": null,
   "id": "77b5b3c6",
   "metadata": {},
   "outputs": [],
   "source": []
  },
  {
   "cell_type": "code",
   "execution_count": null,
   "id": "4970b1b0",
   "metadata": {},
   "outputs": [],
   "source": [
    "print('Mean Churn rate of all subscriber', \n",
    "      round(np.average(df_subscriber.mean_churn_rate, weights=df_subscriber.nb_of_inscription)*100,2), \n",
    "      \"% (over \", len(df_subscriber), ' users)')\n",
    "print('Mean Churn rate of subscriber that did not made any exchange', \n",
    "      round(np.average(df_subscriber_none.mean_churn_rate, weights=df_subscriber_none.nb_of_inscription)*100,2), \n",
    "      \"% (over \", len(df_subscriber_none), ' users)')\n",
    "\n",
    "print('Mean Churn rate of subscriber that are guest and host', \n",
    "      round(np.average(df_subscriber_both.mean_churn_rate, weights=df_subscriber_both.nb_of_inscription)*100,2), \n",
    "    \"% (over \", len(df_subscriber_both), ' users)')\n",
    "\n",
    "print('Mean Churn rate of subscriber that are guest only', \n",
    "      round(np.average(df_subscriber_only_guest.mean_churn_rate, weights=df_subscriber_only_guest.nb_of_inscription)*100,2), \n",
    "     \"% (over \", len(df_subscriber_only_guest), ' users)')\n",
    "\n",
    "print('Mean Churn rate of subscriber that are host only', \n",
    "      round(np.average(df_subscriber_only_host.mean_churn_rate, weights=df_subscriber_only_host.nb_of_inscription)*100,2), \n",
    "     \"% (over \", len(df_subscriber_only_host), ' users)')"
   ]
  },
  {
   "cell_type": "code",
   "execution_count": null,
   "id": "707d77d8",
   "metadata": {},
   "outputs": [],
   "source": [
    "fig = make_subplots(specs=[[{\"secondary_y\": True}]])\n",
    "\n",
    "\n",
    "fig.add_histogram(x=df_subscriber.total_exchange_done, histfunc='count', \n",
    "                  secondary_y=True, name='Nb of users', opacity=0.4,  )\n",
    "\n",
    "fig.add_histogram(x=df_subscriber.total_exchange_done,y= df_subscriber.mean_churn_rate*100, histfunc='avg',name='Churn Rate')\n",
    "\n",
    "fig.update_yaxes(type=\"log\", secondary_y=True)\n",
    "\n",
    "fig.update_layout(xaxis_title='Nb of exchange done by the users')\n",
    "\n",
    "fig.update_yaxes(title_text=\"Churn Rate (%)\", secondary_y=False)\n",
    "fig.update_yaxes(title_text=\"Nb of users\", secondary_y=True)\n",
    "\n"
   ]
  },
  {
   "cell_type": "code",
   "execution_count": null,
   "id": "9287aff1",
   "metadata": {},
   "outputs": [],
   "source": [
    "fig = make_subplots(specs=[[{\"secondary_y\": True}]])\n",
    "\n",
    "\n",
    "fig.add_histogram(x=df_subscriber_only_guest.total_exchange_done, histfunc='count', \n",
    "                  secondary_y=True, name='Nb of users', opacity=0.4,  )\n",
    "\n",
    "fig.add_histogram(x=df_subscriber_only_guest.total_exchange_done,y= df_subscriber_only_guest.mean_churn_rate*100, histfunc='avg',name='Churn Rate')\n",
    "\n",
    "fig.update_yaxes(type=\"log\", secondary_y=True)\n",
    "\n",
    "fig.update_layout(xaxis_title='Nb of exchange done by the users')\n",
    "\n",
    "fig.update_yaxes(title_text=\"Churn Rate (%)\", secondary_y=False)\n",
    "fig.update_yaxes(title_text=\"Nb of users\", secondary_y=True)\n",
    "\n"
   ]
  },
  {
   "cell_type": "code",
   "execution_count": null,
   "id": "96ba0158",
   "metadata": {},
   "outputs": [],
   "source": [
    "fig = make_subplots(specs=[[{\"secondary_y\": True}]])\n",
    "\n",
    "\n",
    "fig.add_histogram(x=df_subscriber_none.total_exchange_done, histfunc='count', \n",
    "                  secondary_y=True, name='Nb of users', opacity=0.4,  )\n",
    "\n",
    "fig.add_histogram(x=df_subscriber_none.total_exchange_done,y= df_subscriber_none.mean_churn_rate*100, \n",
    "                  histfunc='avg',name='Churn Rate')\n",
    "\n",
    "fig.update_yaxes(type=\"log\", secondary_y=True)\n",
    "\n",
    "fig.update_layout(xaxis_title='Nb of exchange done by the users')\n",
    "\n",
    "fig.update_yaxes(title_text=\"Churn Rate (%)\", secondary_y=False)\n",
    "fig.update_yaxes(title_text=\"Nb of users\", secondary_y=True)\n",
    "\n"
   ]
  },
  {
   "cell_type": "code",
   "execution_count": null,
   "id": "d781edba",
   "metadata": {},
   "outputs": [],
   "source": [
    "fig = make_subplots(specs=[[{\"secondary_y\": True}]])\n",
    "\n",
    "\n",
    "fig.add_histogram(x=df_subscriber_both.total_exchange_done, histfunc='count', \n",
    "                  secondary_y=True, name='Nb of users', opacity=0.4,  )\n",
    "\n",
    "fig.add_histogram(x=df_subscriber_both.total_exchange_done,y= df_subscriber_both.mean_churn_rate*100, \n",
    "                  histfunc='avg',name='Churn Rate')\n",
    "\n",
    "fig.update_yaxes(type=\"log\", secondary_y=True)\n",
    "\n",
    "fig.update_layout(xaxis_title='Nb of exchange done by the users')\n",
    "\n",
    "fig.update_yaxes(title_text=\"Churn Rate (%)\", secondary_y=False)\n",
    "fig.update_yaxes(title_text=\"Nb of users\", secondary_y=True)\n",
    "\n"
   ]
  },
  {
   "cell_type": "code",
   "execution_count": null,
   "id": "6dc1fea4",
   "metadata": {},
   "outputs": [],
   "source": [
    "fig = make_subplots(specs=[[{\"secondary_y\": True}]])\n",
    "\n",
    "\n",
    "fig.add_histogram(x=df_subscriber_only_guest.total_exchange_done, histfunc='count', \n",
    "                  secondary_y=True, name='Nb of users', opacity=0.4,  )\n",
    "\n",
    "fig.add_histogram(x=df_subscriber_only_guest.total_exchange_done,y= df_subscriber_only_guest.mean_churn_rate*100, \n",
    "                  histfunc='avg',name='Churn Rate')\n",
    "\n",
    "fig.update_yaxes(type=\"log\", secondary_y=True)\n",
    "\n",
    "fig.update_layout(xaxis_title='Nb of exchange done by the users')\n",
    "\n",
    "fig.update_yaxes(title_text=\"Churn Rate (%)\", secondary_y=False)\n",
    "fig.update_yaxes(title_text=\"Nb of users\", secondary_y=True)\n",
    "\n"
   ]
  },
  {
   "cell_type": "code",
   "execution_count": null,
   "id": "774c82f2",
   "metadata": {},
   "outputs": [],
   "source": [
    "fig = make_subplots(specs=[[{\"secondary_y\": True}]])\n",
    "\n",
    "\n",
    "fig.add_histogram(x=df_subscriber_only_host.total_exchange_done, histfunc='count', \n",
    "                  secondary_y=True, name='Nb of users', opacity=0.4,  )\n",
    "\n",
    "fig.add_histogram(x=df_subscriber_only_host.total_exchange_done,y= df_subscriber_only_host.mean_churn_rate*100, \n",
    "                  histfunc='avg',name='Churn Rate')\n",
    "\n",
    "fig.update_yaxes(type=\"log\", secondary_y=True)\n",
    "\n",
    "fig.update_layout(xaxis_title='Nb of exchange done by the users')\n",
    "\n",
    "fig.update_yaxes(title_text=\"Churn Rate (%)\", secondary_y=False)\n",
    "fig.update_yaxes(title_text=\"Nb of users\", secondary_y=True)\n",
    "\n"
   ]
  },
  {
   "cell_type": "code",
   "execution_count": null,
   "id": "c0017782",
   "metadata": {},
   "outputs": [],
   "source": [
    "df_subscriber['covid'] = np.where(\n",
    "                        (df_subscriber.first_subscription_date>=pd.to_datetime('2019-10-01').date())\n",
    "                  & (df_subscriber.first_subscription_date<=pd.to_datetime('2020-06-01').date()), 1,0)"
   ]
  },
  {
   "cell_type": "code",
   "execution_count": null,
   "id": "9b331f56",
   "metadata": {},
   "outputs": [],
   "source": [
    "len(df_subscriber[df_subscriber['covid']==1])/len(df_subscriber)*100"
   ]
  },
  {
   "cell_type": "code",
   "execution_count": null,
   "id": "a0479da0",
   "metadata": {},
   "outputs": [],
   "source": [
    "test = df_subscriber[df_subscriber['covid']==0]"
   ]
  },
  {
   "cell_type": "code",
   "execution_count": null,
   "id": "51fabc71",
   "metadata": {},
   "outputs": [],
   "source": [
    "print(len(test[test.mean_churn_rate==1])/len(test)*100)\n",
    "print(len(test[test.mean_churn_rate<1])/len(test)*100)\n"
   ]
  },
  {
   "cell_type": "code",
   "execution_count": null,
   "id": "d82f0c57",
   "metadata": {},
   "outputs": [],
   "source": [
    "len(test[test.mean_churn_rate<1])/len(test)*100"
   ]
  },
  {
   "cell_type": "code",
   "execution_count": null,
   "id": "f9d8acf8",
   "metadata": {},
   "outputs": [],
   "source": [
    "len(df_subscriber[df_subscriber.mean_churn_rate==1])/len(df_subscriber)*100"
   ]
  },
  {
   "cell_type": "code",
   "execution_count": null,
   "id": "14e87ef4",
   "metadata": {},
   "outputs": [],
   "source": [
    "len(df_subscriber[df_subscriber.mean_churn_rate==0])/len(df_subscriber)*100"
   ]
  },
  {
   "cell_type": "code",
   "execution_count": null,
   "id": "96248af7",
   "metadata": {},
   "outputs": [],
   "source": [
    "len(df_subscriber[round(df_subscriber.mean_churn_rate,2)==round(2/3,2)])/len(df_subscriber)*100"
   ]
  },
  {
   "cell_type": "code",
   "execution_count": null,
   "id": "07635b8e",
   "metadata": {},
   "outputs": [],
   "source": []
  },
  {
   "cell_type": "code",
   "execution_count": null,
   "id": "cf224781",
   "metadata": {},
   "outputs": [],
   "source": [
    "2/3"
   ]
  },
  {
   "cell_type": "code",
   "execution_count": null,
   "id": "7c125110",
   "metadata": {},
   "outputs": [],
   "source": []
  },
  {
   "cell_type": "code",
   "execution_count": null,
   "id": "4687d295",
   "metadata": {},
   "outputs": [],
   "source": []
  },
  {
   "cell_type": "code",
   "execution_count": null,
   "id": "45497334",
   "metadata": {},
   "outputs": [],
   "source": []
  },
  {
   "cell_type": "code",
   "execution_count": null,
   "id": "8ec4f644",
   "metadata": {},
   "outputs": [],
   "source": []
  },
  {
   "cell_type": "code",
   "execution_count": null,
   "id": "2e1ace84",
   "metadata": {},
   "outputs": [],
   "source": []
  },
  {
   "cell_type": "code",
   "execution_count": null,
   "id": "0986f4d7",
   "metadata": {},
   "outputs": [],
   "source": []
  },
  {
   "cell_type": "code",
   "execution_count": null,
   "id": "c80fb5e7",
   "metadata": {},
   "outputs": [],
   "source": []
  },
  {
   "cell_type": "code",
   "execution_count": null,
   "id": "3d677237",
   "metadata": {},
   "outputs": [],
   "source": []
  },
  {
   "cell_type": "code",
   "execution_count": null,
   "id": "cdd99e0b",
   "metadata": {},
   "outputs": [],
   "source": []
  },
  {
   "cell_type": "code",
   "execution_count": null,
   "id": "350223ad",
   "metadata": {},
   "outputs": [],
   "source": []
  },
  {
   "cell_type": "code",
   "execution_count": null,
   "id": "053d70f0",
   "metadata": {},
   "outputs": [],
   "source": []
  },
  {
   "cell_type": "code",
   "execution_count": null,
   "id": "2525a87e",
   "metadata": {},
   "outputs": [],
   "source": []
  },
  {
   "cell_type": "code",
   "execution_count": null,
   "id": "75970415",
   "metadata": {},
   "outputs": [],
   "source": []
  },
  {
   "cell_type": "code",
   "execution_count": null,
   "id": "39660564",
   "metadata": {},
   "outputs": [],
   "source": []
  },
  {
   "cell_type": "code",
   "execution_count": null,
   "id": "69335e69",
   "metadata": {},
   "outputs": [],
   "source": []
  },
  {
   "cell_type": "code",
   "execution_count": null,
   "id": "3c7dbf7b",
   "metadata": {},
   "outputs": [],
   "source": []
  },
  {
   "cell_type": "code",
   "execution_count": null,
   "id": "a1f6cbd1",
   "metadata": {},
   "outputs": [],
   "source": []
  },
  {
   "cell_type": "code",
   "execution_count": null,
   "id": "d9364d35",
   "metadata": {},
   "outputs": [],
   "source": []
  },
  {
   "cell_type": "code",
   "execution_count": null,
   "id": "0905a8d6",
   "metadata": {},
   "outputs": [],
   "source": []
  },
  {
   "cell_type": "code",
   "execution_count": null,
   "id": "6114d067",
   "metadata": {},
   "outputs": [],
   "source": []
  },
  {
   "cell_type": "code",
   "execution_count": null,
   "id": "62bbad46",
   "metadata": {},
   "outputs": [],
   "source": []
  },
  {
   "cell_type": "code",
   "execution_count": null,
   "id": "5808ae62",
   "metadata": {},
   "outputs": [],
   "source": []
  },
  {
   "cell_type": "code",
   "execution_count": null,
   "id": "ab78b0ef",
   "metadata": {},
   "outputs": [],
   "source": []
  },
  {
   "cell_type": "code",
   "execution_count": null,
   "id": "532db478",
   "metadata": {},
   "outputs": [],
   "source": []
  },
  {
   "cell_type": "code",
   "execution_count": null,
   "id": "7c3dbe39",
   "metadata": {},
   "outputs": [],
   "source": []
  },
  {
   "cell_type": "code",
   "execution_count": null,
   "id": "266134d3",
   "metadata": {},
   "outputs": [],
   "source": []
  },
  {
   "cell_type": "code",
   "execution_count": null,
   "id": "a14399bc",
   "metadata": {},
   "outputs": [],
   "source": []
  },
  {
   "cell_type": "code",
   "execution_count": null,
   "id": "d3fe9884",
   "metadata": {},
   "outputs": [],
   "source": []
  },
  {
   "cell_type": "code",
   "execution_count": null,
   "id": "e866a040",
   "metadata": {},
   "outputs": [],
   "source": []
  },
  {
   "cell_type": "code",
   "execution_count": null,
   "id": "eb84e66a",
   "metadata": {},
   "outputs": [],
   "source": []
  },
  {
   "cell_type": "code",
   "execution_count": null,
   "id": "e4dced22",
   "metadata": {},
   "outputs": [],
   "source": []
  },
  {
   "cell_type": "code",
   "execution_count": null,
   "id": "d38b1ae5",
   "metadata": {},
   "outputs": [],
   "source": []
  },
  {
   "cell_type": "code",
   "execution_count": null,
   "id": "83b97700",
   "metadata": {},
   "outputs": [],
   "source": []
  },
  {
   "cell_type": "code",
   "execution_count": null,
   "id": "e4b30675",
   "metadata": {},
   "outputs": [],
   "source": []
  },
  {
   "cell_type": "code",
   "execution_count": null,
   "id": "cea40fe9",
   "metadata": {},
   "outputs": [],
   "source": []
  },
  {
   "cell_type": "code",
   "execution_count": null,
   "id": "59858ce0",
   "metadata": {},
   "outputs": [],
   "source": []
  },
  {
   "cell_type": "code",
   "execution_count": null,
   "id": "2fa0188f",
   "metadata": {},
   "outputs": [],
   "source": []
  },
  {
   "cell_type": "code",
   "execution_count": null,
   "id": "e386e870",
   "metadata": {},
   "outputs": [],
   "source": []
  },
  {
   "cell_type": "code",
   "execution_count": null,
   "id": "5ecb6dc3",
   "metadata": {},
   "outputs": [],
   "source": []
  },
  {
   "cell_type": "code",
   "execution_count": null,
   "id": "5f81ad76",
   "metadata": {},
   "outputs": [],
   "source": []
  },
  {
   "cell_type": "code",
   "execution_count": null,
   "id": "cba7bc14",
   "metadata": {},
   "outputs": [],
   "source": []
  },
  {
   "cell_type": "code",
   "execution_count": null,
   "id": "30834366",
   "metadata": {},
   "outputs": [],
   "source": []
  },
  {
   "cell_type": "code",
   "execution_count": null,
   "id": "2842d0f6",
   "metadata": {},
   "outputs": [],
   "source": []
  },
  {
   "cell_type": "code",
   "execution_count": null,
   "id": "a21e212a",
   "metadata": {},
   "outputs": [],
   "source": []
  },
  {
   "cell_type": "code",
   "execution_count": null,
   "id": "c56a8868",
   "metadata": {},
   "outputs": [],
   "source": []
  },
  {
   "cell_type": "code",
   "execution_count": null,
   "id": "1f98f9cd",
   "metadata": {},
   "outputs": [],
   "source": []
  },
  {
   "cell_type": "code",
   "execution_count": null,
   "id": "68eb6f55",
   "metadata": {},
   "outputs": [],
   "source": []
  },
  {
   "cell_type": "code",
   "execution_count": null,
   "id": "d614d364",
   "metadata": {},
   "outputs": [],
   "source": []
  },
  {
   "cell_type": "code",
   "execution_count": null,
   "id": "c04381d3",
   "metadata": {},
   "outputs": [],
   "source": []
  },
  {
   "cell_type": "code",
   "execution_count": null,
   "id": "40ffd447",
   "metadata": {},
   "outputs": [],
   "source": []
  },
  {
   "cell_type": "code",
   "execution_count": null,
   "id": "5bd293b1",
   "metadata": {},
   "outputs": [],
   "source": []
  },
  {
   "cell_type": "code",
   "execution_count": null,
   "id": "d7f43b06",
   "metadata": {},
   "outputs": [],
   "source": []
  },
  {
   "cell_type": "code",
   "execution_count": null,
   "id": "a0835baf",
   "metadata": {},
   "outputs": [],
   "source": []
  },
  {
   "cell_type": "code",
   "execution_count": null,
   "id": "de749d31",
   "metadata": {},
   "outputs": [],
   "source": []
  },
  {
   "cell_type": "code",
   "execution_count": null,
   "id": "fdd0bc9b",
   "metadata": {},
   "outputs": [],
   "source": []
  },
  {
   "cell_type": "code",
   "execution_count": null,
   "id": "cdf38e73",
   "metadata": {},
   "outputs": [],
   "source": []
  },
  {
   "cell_type": "code",
   "execution_count": null,
   "id": "eac6e3f0",
   "metadata": {},
   "outputs": [],
   "source": []
  }
 ],
 "metadata": {
  "kernelspec": {
   "display_name": "Python 3 (ipykernel)",
   "language": "python",
   "name": "python3"
  },
  "language_info": {
   "codemirror_mode": {
    "name": "ipython",
    "version": 3
   },
   "file_extension": ".py",
   "mimetype": "text/x-python",
   "name": "python",
   "nbconvert_exporter": "python",
   "pygments_lexer": "ipython3",
   "version": "3.10.6"
  },
  "toc": {
   "base_numbering": 1,
   "nav_menu": {},
   "number_sections": true,
   "sideBar": true,
   "skip_h1_title": false,
   "title_cell": "Table of Contents",
   "title_sidebar": "Contents",
   "toc_cell": false,
   "toc_position": {},
   "toc_section_display": true,
   "toc_window_display": true
  }
 },
 "nbformat": 4,
 "nbformat_minor": 5
}
