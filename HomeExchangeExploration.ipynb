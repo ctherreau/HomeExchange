{
  "nbformat": 4,
  "nbformat_minor": 0,
  "metadata": {
    "colab": {
      "provenance": [],
      "authorship_tag": "ABX9TyO2nvFNFNoTdk4ZuZQiMZht",
      "include_colab_link": true
    },
    "kernelspec": {
      "name": "python3",
      "display_name": "Python 3"
    },
    "language_info": {
      "name": "python"
    }
  },
  "cells": [
    {
      "cell_type": "markdown",
      "metadata": {
        "id": "view-in-github",
        "colab_type": "text"
      },
      "source": [
        "<a href=\"https://colab.research.google.com/github/ctherreau/HomeExchange/blob/main/HomeExchangeExploration.ipynb\" target=\"_parent\"><img src=\"https://colab.research.google.com/assets/colab-badge.svg\" alt=\"Open In Colab\"/></a>"
      ]
    },
    {
      "cell_type": "code",
      "source": [
        "from google.colab import auth\n",
        "auth.authenticate_user()"
      ],
      "metadata": {
        "id": "Cv9_Zor7572u"
      },
      "execution_count": 1,
      "outputs": []
    },
    {
      "cell_type": "code",
      "source": [
        "\n",
        "sql_query = ('''SELECT *\n",
        "                FROM datahomeexchange.dbt_ctherreau.subscriptions\n",
        "                LIMIT 10''')\n",
        "\n",
        "df = client.query(sql_query).to_dataframe()"
      ],
      "metadata": {
        "id": "KiWhVYIv6MsK"
      },
      "execution_count": 3,
      "outputs": []
    },
    {
      "cell_type": "code",
      "execution_count": 2,
      "metadata": {
        "id": "lOvNusoo5KG5"
      },
      "outputs": [],
      "source": [
        "#Replace 'project_id' with your BigQuery project ID\n",
        "\n",
        "from google.cloud import bigquery\n",
        "client = bigquery.Client(project='datahomeexchange')"
      ]
    },
    {
      "cell_type": "markdown",
      "source": [],
      "metadata": {
        "id": "tVF4u8S26lF6"
      }
    },
    {
      "cell_type": "code",
      "source": [],
      "metadata": {
        "id": "jXgyzs5O6gyG"
      },
      "execution_count": null,
      "outputs": []
    }
  ]
}